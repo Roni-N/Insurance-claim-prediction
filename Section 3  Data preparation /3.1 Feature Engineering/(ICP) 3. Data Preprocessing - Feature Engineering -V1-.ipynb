{
 "cells": [
  {
   "cell_type": "code",
   "execution_count": 243,
   "metadata": {},
   "outputs": [],
   "source": [
    "import numpy as np # linear algebra\n",
    "import pandas as pd # data processing, CSV file I/O (e.g. pd.read_csv)\n",
    "\n",
    "import matplotlib.pyplot as plt \n",
    "import seaborn as sns \n",
    "import plotly as py\n",
    "import plotly.graph_objs as go\n",
    "import plotly.express as px\n",
    "import plotly.graph_objects as go\n",
    "\n",
    "\n",
    "# visualization\n",
    "import seaborn as sns\n",
    "import matplotlib.pyplot as plt\n",
    "import matplotlib\n",
    "\n",
    "# to split the datasets\n",
    "from sklearn.model_selection import train_test_split\n",
    "\n",
    "from sklearn.experimental import enable_iterative_imputer\n",
    "from sklearn.impute import IterativeImputer\n",
    "from sklearn.impute import KNNImputer \n",
    "\n",
    "from sklearn.linear_model import LinearRegression\n",
    "\n",
    "import scipy.stats as stats\n",
    "from sklearn.preprocessing import KBinsDiscretizer\n",
    "\n",
    "# the scaler - for standardisation\n",
    "from sklearn.preprocessing import StandardScaler\n",
    "\n",
    "import warnings\n",
    "warnings.filterwarnings('ignore')"
   ]
  },
  {
   "cell_type": "code",
   "execution_count": 244,
   "metadata": {},
   "outputs": [
    {
     "data": {
      "text/html": [
       "<div>\n",
       "<style scoped>\n",
       "    .dataframe tbody tr th:only-of-type {\n",
       "        vertical-align: middle;\n",
       "    }\n",
       "\n",
       "    .dataframe tbody tr th {\n",
       "        vertical-align: top;\n",
       "    }\n",
       "\n",
       "    .dataframe thead th {\n",
       "        text-align: right;\n",
       "    }\n",
       "</style>\n",
       "<table border=\"1\" class=\"dataframe\">\n",
       "  <thead>\n",
       "    <tr style=\"text-align: right;\">\n",
       "      <th></th>\n",
       "      <th>Keypls</th>\n",
       "      <th>Rishuy_number</th>\n",
       "      <th>Rechecv_Companny</th>\n",
       "      <th>Manufacture_Year</th>\n",
       "      <th>Start_date</th>\n",
       "      <th>End_date</th>\n",
       "      <th>ID</th>\n",
       "      <th>Age</th>\n",
       "      <th>Gender</th>\n",
       "      <th>City</th>\n",
       "      <th>Meshlem_polisa_IND</th>\n",
       "      <th>NumInP</th>\n",
       "      <th>Tvia_number</th>\n",
       "      <th>Tvia_date</th>\n",
       "      <th>y</th>\n",
       "    </tr>\n",
       "  </thead>\n",
       "  <tbody>\n",
       "    <tr>\n",
       "      <th>4444</th>\n",
       "      <td>3077</td>\n",
       "      <td>73004577</td>\n",
       "      <td>Tesla</td>\n",
       "      <td>2006.0</td>\n",
       "      <td>2016-05-02</td>\n",
       "      <td>2017-05-02</td>\n",
       "      <td>300602469.0</td>\n",
       "      <td>50.0</td>\n",
       "      <td>Male</td>\n",
       "      <td>Jerusalem</td>\n",
       "      <td>0.0</td>\n",
       "      <td>3.0</td>\n",
       "      <td>NaN</td>\n",
       "      <td>NaN</td>\n",
       "      <td>0</td>\n",
       "    </tr>\n",
       "    <tr>\n",
       "      <th>7152</th>\n",
       "      <td>4351</td>\n",
       "      <td>73005851</td>\n",
       "      <td>Ford</td>\n",
       "      <td>2000.0</td>\n",
       "      <td>2016-11-11</td>\n",
       "      <td>2017-11-11</td>\n",
       "      <td>300607486.0</td>\n",
       "      <td>52.0</td>\n",
       "      <td>Male</td>\n",
       "      <td>Haifa</td>\n",
       "      <td>1.0</td>\n",
       "      <td>4.0</td>\n",
       "      <td>NaN</td>\n",
       "      <td>NaN</td>\n",
       "      <td>0</td>\n",
       "    </tr>\n",
       "    <tr>\n",
       "      <th>2295</th>\n",
       "      <td>2039</td>\n",
       "      <td>73003539</td>\n",
       "      <td>Fiat</td>\n",
       "      <td>2004.0</td>\n",
       "      <td>2016-04-08</td>\n",
       "      <td>2017-01-28</td>\n",
       "      <td>300604240.0</td>\n",
       "      <td>17.0</td>\n",
       "      <td>Male</td>\n",
       "      <td>Haifa</td>\n",
       "      <td>0.0</td>\n",
       "      <td>7.0</td>\n",
       "      <td>NaN</td>\n",
       "      <td>NaN</td>\n",
       "      <td>0</td>\n",
       "    </tr>\n",
       "    <tr>\n",
       "      <th>6518</th>\n",
       "      <td>4046</td>\n",
       "      <td>73005546</td>\n",
       "      <td>Ford</td>\n",
       "      <td>2011.0</td>\n",
       "      <td>2016-04-08</td>\n",
       "      <td>2016-12-07</td>\n",
       "      <td>300605411.0</td>\n",
       "      <td>47.0</td>\n",
       "      <td>Male</td>\n",
       "      <td>Tel Aviv</td>\n",
       "      <td>0.0</td>\n",
       "      <td>5.0</td>\n",
       "      <td>NaN</td>\n",
       "      <td>NaN</td>\n",
       "      <td>0</td>\n",
       "    </tr>\n",
       "  </tbody>\n",
       "</table>\n",
       "</div>"
      ],
      "text/plain": [
       "      Keypls  Rishuy_number Rechecv_Companny  Manufacture_Year  Start_date  \\\n",
       "4444    3077       73004577            Tesla            2006.0  2016-05-02   \n",
       "7152    4351       73005851             Ford            2000.0  2016-11-11   \n",
       "2295    2039       73003539             Fiat            2004.0  2016-04-08   \n",
       "6518    4046       73005546             Ford            2011.0  2016-04-08   \n",
       "\n",
       "        End_date           ID   Age Gender       City  Meshlem_polisa_IND  \\\n",
       "4444  2017-05-02  300602469.0  50.0   Male  Jerusalem                 0.0   \n",
       "7152  2017-11-11  300607486.0  52.0   Male      Haifa                 1.0   \n",
       "2295  2017-01-28  300604240.0  17.0   Male      Haifa                 0.0   \n",
       "6518  2016-12-07  300605411.0  47.0   Male   Tel Aviv                 0.0   \n",
       "\n",
       "      NumInP  Tvia_number Tvia_date  y  \n",
       "4444     3.0          NaN       NaN  0  \n",
       "7152     4.0          NaN       NaN  0  \n",
       "2295     7.0          NaN       NaN  0  \n",
       "6518     5.0          NaN       NaN  0  "
      ]
     },
     "execution_count": 244,
     "metadata": {},
     "output_type": "execute_result"
    }
   ],
   "source": [
    "df = pd.read_csv(r'/Users/roni/Google Drive/DS-ML Project 2021/datasets/End of EDA/End_of_EDA_dataset.csv')\n",
    "df.sample(4)"
   ]
  },
  {
   "cell_type": "markdown",
   "metadata": {},
   "source": [
    "# Data Preprocessing - Feature Engineering "
   ]
  },
  {
   "cell_type": "markdown",
   "metadata": {},
   "source": [
    "### Splitting the dataset:\n",
    "The calculation should be done only the train set in order to avoid overfitting"
   ]
  },
  {
   "cell_type": "code",
   "execution_count": 245,
   "metadata": {},
   "outputs": [
    {
     "data": {
      "text/plain": [
       "Keypls                0.000000\n",
       "Rishuy_number         0.000000\n",
       "Rechecv_Companny      0.040903\n",
       "Manufacture_Year      0.103550\n",
       "Start_date            0.000000\n",
       "End_date              0.000000\n",
       "ID                    0.059709\n",
       "Age                   0.059709\n",
       "Gender                0.059709\n",
       "City                  0.059709\n",
       "Meshlem_polisa_IND    0.059709\n",
       "NumInP                0.059709\n",
       "Tvia_number           0.817583\n",
       "Tvia_date             0.817583\n",
       "y                     0.000000\n",
       "dtype: float64"
      ]
     },
     "execution_count": 245,
     "metadata": {},
     "output_type": "execute_result"
    }
   ],
   "source": [
    "# let's look at the percentage of NA\n",
    "df.isnull().mean()"
   ]
  },
  {
   "cell_type": "code",
   "execution_count": 246,
   "metadata": {},
   "outputs": [
    {
     "data": {
      "text/plain": [
       "((5955, 14), (2553, 14))"
      ]
     },
     "execution_count": 246,
     "metadata": {},
     "output_type": "execute_result"
    }
   ],
   "source": [
    "# let's separate into training and testing set\n",
    "df_x = df.drop(\"y\",1)\n",
    "df_y = df['y']\n",
    "X_train, X_test, y_train, y_test = train_test_split(df_x,df_y,test_size=0.3,random_state=0)\n",
    "X_train.shape, X_test.shape"
   ]
  },
  {
   "cell_type": "code",
   "execution_count": 247,
   "metadata": {},
   "outputs": [
    {
     "data": {
      "text/plain": [
       "Keypls                0.000000\n",
       "Rishuy_number         0.000000\n",
       "Rechecv_Companny      0.041142\n",
       "Manufacture_Year      0.103610\n",
       "Start_date            0.000000\n",
       "End_date              0.000000\n",
       "ID                    0.060789\n",
       "Age                   0.060789\n",
       "Gender                0.060789\n",
       "City                  0.060789\n",
       "Meshlem_polisa_IND    0.060789\n",
       "NumInP                0.060789\n",
       "Tvia_number           0.814106\n",
       "Tvia_date             0.814106\n",
       "dtype: float64"
      ]
     },
     "execution_count": 247,
     "metadata": {},
     "output_type": "execute_result"
    }
   ],
   "source": [
    "# Let's explore the missing data in the train set\n",
    "# the percentages should be fairly similar to those\n",
    "# of the whole dataset\n",
    "X_train.isnull().mean()"
   ]
  },
  {
   "cell_type": "code",
   "execution_count": 248,
   "metadata": {},
   "outputs": [
    {
     "data": {
      "text/plain": [
       "Age                   False\n",
       "City                  False\n",
       "End_date              False\n",
       "Gender                False\n",
       "ID                    False\n",
       "Keypls                False\n",
       "Manufacture_Year      False\n",
       "Meshlem_polisa_IND    False\n",
       "NumInP                False\n",
       "Rechecv_Companny      False\n",
       "Rishuy_number         False\n",
       "Start_date            False\n",
       "Tvia_date             False\n",
       "Tvia_number           False\n",
       "y                     False\n",
       "dtype: bool"
      ]
     },
     "execution_count": 248,
     "metadata": {},
     "output_type": "execute_result"
    }
   ],
   "source": [
    "abs(df.isnull().mean() - X_train.isnull().mean()) > 0.01"
   ]
  },
  {
   "cell_type": "markdown",
   "metadata": {},
   "source": [
    "### Impute missing values "
   ]
  },
  {
   "cell_type": "markdown",
   "metadata": {},
   "source": [
    "Features that are not relevant: **Tvia_date, Tvia_number, Unnamed: 0, Unnamed: 0_y, Unnamed: 0_x, Meshlem_polisa_IND,ID**<br>\n",
    "We left with - **City,Gender, Age, Manufacture_Year Rechecv_Companny**<br>\n",
    "Continuous variables: **Manufacture_Year, Age**<br>\n",
    "Categorical variables: **City, Gender, Rechecv_Companny** <br>"
   ]
  },
  {
   "cell_type": "markdown",
   "metadata": {},
   "source": [
    "### Imputation of missing values - categorical: Rechecv_Companny"
   ]
  },
  {
   "cell_type": "markdown",
   "metadata": {},
   "source": [
    " Let's try to implement three methods and after that, we will select one. <br>\n",
    " We will check the dis plot before and after and then we will take the one who preserves the original dis as possible <br>\n",
    " 1 - Frequent category imputation - mode  <br>\n",
    " 2 - Random sample imputation  <br>\n",
    " 3 - Missing category imputation  <br>"
   ]
  },
  {
   "cell_type": "code",
   "execution_count": 249,
   "metadata": {},
   "outputs": [],
   "source": [
    "X_train_num1 = X_train.copy()\n",
    "X_test_num1 = X_test.copy()\n",
    "X_train_num2 = X_train.copy()\n",
    "X_test_num2 = X_test.copy()\n",
    "X_train_num3 = X_train.copy()\n",
    "X_test_num3 = X_test.copy()"
   ]
  },
  {
   "cell_type": "code",
   "execution_count": 250,
   "metadata": {},
   "outputs": [
    {
     "data": {
      "image/png": "[encoded data removed]",
      "text/plain": [
       "<Figure size 360x360 with 1 Axes>"
      ]
     },
     "metadata": {
      "needs_background": "light"
     },
     "output_type": "display_data"
    }
   ],
   "source": [
    "# 1 - Frequent category imputation - mode\n",
    "# let's inspect the number of observations per category in Rechecv_Companny\n",
    "sns.catplot(x=\"Rechecv_Companny\", kind=\"count\", data = X_train);\n",
    "plt.show()"
   ]
  },
  {
   "cell_type": "code",
   "execution_count": 251,
   "metadata": {},
   "outputs": [
    {
     "data": {
      "text/plain": [
       "Keypls                   0\n",
       "Rishuy_number            0\n",
       "Rechecv_Companny       245\n",
       "Manufacture_Year       617\n",
       "Start_date               0\n",
       "End_date                 0\n",
       "ID                     362\n",
       "Age                    362\n",
       "Gender                 362\n",
       "City                   362\n",
       "Meshlem_polisa_IND     362\n",
       "NumInP                 362\n",
       "Tvia_number           4848\n",
       "Tvia_date             4848\n",
       "dtype: int64"
      ]
     },
     "execution_count": 251,
     "metadata": {},
     "output_type": "execute_result"
    }
   ],
   "source": [
    "X_train_num1.isnull().sum()"
   ]
  },
  {
   "cell_type": "code",
   "execution_count": 252,
   "metadata": {},
   "outputs": [
    {
     "data": {
      "text/plain": [
       "0    Ford\n",
       "dtype: object"
      ]
     },
     "execution_count": 252,
     "metadata": {},
     "output_type": "execute_result"
    }
   ],
   "source": [
    "mustfreq = X_train['Rechecv_Companny'].mode()\n",
    "mustfreq"
   ]
  },
  {
   "cell_type": "code",
   "execution_count": 253,
   "metadata": {},
   "outputs": [],
   "source": [
    "X_train_num1['Rechecv_Companny'].fillna(X_train_num1['Rechecv_Companny'].mode()[0], inplace=True)\n",
    "X_test_num1['Rechecv_Companny'].fillna(X_train_num1['Rechecv_Companny'].mode()[0], inplace=True)"
   ]
  },
  {
   "cell_type": "code",
   "execution_count": 254,
   "metadata": {},
   "outputs": [
    {
     "data": {
      "text/plain": [
       "1640     Ford\n",
       "2237    Mazda\n",
       "3222    Mazda\n",
       "2578    Mazda\n",
       "5893     Fiat\n",
       "        ...  \n",
       "4373     Fiat\n",
       "7891    Mazda\n",
       "4859      BMW\n",
       "3264     Ford\n",
       "2732    Tesla\n",
       "Name: Rechecv_Companny, Length: 5955, dtype: object"
      ]
     },
     "execution_count": 254,
     "metadata": {},
     "output_type": "execute_result"
    }
   ],
   "source": [
    "X_train_num1['Rechecv_Companny']"
   ]
  },
  {
   "cell_type": "code",
   "execution_count": 255,
   "metadata": {},
   "outputs": [
    {
     "data": {
      "image/png": "[encoded data removed]",
      "text/plain": [
       "<Figure size 360x360 with 1 Axes>"
      ]
     },
     "metadata": {
      "needs_background": "light"
     },
     "output_type": "display_data"
    },
    {
     "data": {
      "image/png": "[encoded data removed]",
      "text/plain": [
       "<Figure size 360x360 with 1 Axes>"
      ]
     },
     "metadata": {
      "needs_background": "light"
     },
     "output_type": "display_data"
    }
   ],
   "source": [
    "# Rechecv_Companny dis - method 1 plot   - Frequent category imputation - mode \n",
    "sns.catplot(x=\"Rechecv_Companny\", kind=\"count\", data = X_train);\n",
    "sns.catplot(x=\"Rechecv_Companny\", kind=\"count\", data = X_train_num1);\n",
    "plt.show()"
   ]
  },
  {
   "cell_type": "code",
   "execution_count": 256,
   "metadata": {},
   "outputs": [
    {
     "data": {
      "text/plain": [
       "Keypls                   0\n",
       "Rishuy_number            0\n",
       "Rechecv_Companny         0\n",
       "Manufacture_Year       617\n",
       "Start_date               0\n",
       "End_date                 0\n",
       "ID                     362\n",
       "Age                    362\n",
       "Gender                 362\n",
       "City                   362\n",
       "Meshlem_polisa_IND     362\n",
       "NumInP                 362\n",
       "Tvia_number           4848\n",
       "Tvia_date             4848\n",
       "dtype: int64"
      ]
     },
     "execution_count": 256,
     "metadata": {},
     "output_type": "execute_result"
    }
   ],
   "source": [
    "X_train_num1.isnull().sum()"
   ]
  },
  {
   "cell_type": "code",
   "execution_count": 257,
   "metadata": {},
   "outputs": [],
   "source": [
    "# create the new variable where NA will be imputed:\n",
    "# make a copy from the original variable, with NA\n",
    "X_train_num2['Rechecv_Companny_imputed'] = X_train_num2['Rechecv_Companny'].copy()\n",
    "X_test_num2['Rechecv_Companny_imputed'] = X_test_num2['Rechecv_Companny'].copy()\n",
    "\n",
    "# extract the random sample to fill the na:\n",
    "random_sample_train = X_train_num2['Rechecv_Companny'].dropna().sample(X_train_num2['Rechecv_Companny'].isnull().sum(), random_state=0)\n",
    "random_sample_test = X_train_num2['Rechecv_Companny'].dropna().sample(X_test_num2['Rechecv_Companny'].isnull().sum(), random_state=0)\n",
    "\n",
    "\n",
    "random_sample_train.index = X_train_num2[X_train_num2['Rechecv_Companny'].isnull()].index\n",
    "random_sample_test.index = X_test_num2[X_test_num2['Rechecv_Companny'].isnull()].index\n",
    "\n",
    "# replace the NA in the newly created variable\n",
    "X_train_num2.loc[X_train_num2['Rechecv_Companny'].isnull(), 'Rechecv_Companny_imputed'] = random_sample_train\n",
    "X_test_num2.loc[X_test_num2['Rechecv_Companny'].isnull(), 'Rechecv_Companny_imputed'] = random_sample_test\n"
   ]
  },
  {
   "cell_type": "code",
   "execution_count": 258,
   "metadata": {},
   "outputs": [],
   "source": [
    "# created a new variable Rechecv_Companny_imputed filled with random samplening"
   ]
  },
  {
   "cell_type": "code",
   "execution_count": 259,
   "metadata": {},
   "outputs": [
    {
     "data": {
      "image/png": "[encoded data removed]",
      "text/plain": [
       "<Figure size 360x360 with 1 Axes>"
      ]
     },
     "metadata": {
      "needs_background": "light"
     },
     "output_type": "display_data"
    },
    {
     "data": {
      "image/png": "[encoded data removed]",
      "text/plain": [
       "<Figure size 360x360 with 1 Axes>"
      ]
     },
     "metadata": {
      "needs_background": "light"
     },
     "output_type": "display_data"
    }
   ],
   "source": [
    "# Rechecv_Companny dis - method 2 plot  - Random sample imputation \n",
    "sns.catplot(x=\"Rechecv_Companny\", kind=\"count\", data = X_train);\n",
    "sns.catplot(x=\"Rechecv_Companny_imputed\", kind=\"count\", data = X_train_num2);\n",
    "plt.show()"
   ]
  },
  {
   "cell_type": "code",
   "execution_count": 260,
   "metadata": {},
   "outputs": [],
   "source": [
    "# 3 - Missing category imputation"
   ]
  },
  {
   "cell_type": "code",
   "execution_count": 261,
   "metadata": {},
   "outputs": [],
   "source": [
    "X_train_num3['Rechecv_Companny'].fillna('Missing', inplace=True)\n",
    "X_test_num3['Rechecv_Companny'].fillna('Missing', inplace=True)"
   ]
  },
  {
   "cell_type": "code",
   "execution_count": 262,
   "metadata": {},
   "outputs": [
    {
     "data": {
      "image/png": "[encoded data removed]",
      "text/plain": [
       "<Figure size 360x360 with 1 Axes>"
      ]
     },
     "metadata": {
      "needs_background": "light"
     },
     "output_type": "display_data"
    }
   ],
   "source": [
    "# Rechecv_Companny dis - method 3 plot  - Missing category imputation \n",
    "sns.catplot(x=\"Rechecv_Companny\", kind=\"count\", data = X_train_num3);\n",
    "plt.show()"
   ]
  },
  {
   "cell_type": "code",
   "execution_count": 263,
   "metadata": {},
   "outputs": [],
   "source": [
    "#X_train.head()"
   ]
  },
  {
   "cell_type": "code",
   "execution_count": 264,
   "metadata": {},
   "outputs": [],
   "source": [
    "# we will keep the results of mathoud 2 and 3\n",
    "X_train['Rechecv_Companny_imputed_M2'] = X_train_num2['Rechecv_Companny_imputed']\n",
    "X_test['Rechecv_Companny_imputed_M2'] = X_test_num2['Rechecv_Companny_imputed']\n",
    "X_train['Rechecv_Companny_Missing_M3'] = X_train_num3['Rechecv_Companny']\n",
    "X_test['Rechecv_Companny_Missing_M3'] = X_test_num3['Rechecv_Companny']"
   ]
  },
  {
   "cell_type": "code",
   "execution_count": 265,
   "metadata": {},
   "outputs": [
    {
     "data": {
      "text/plain": [
       "Keypls                            0\n",
       "Rishuy_number                     0\n",
       "Rechecv_Companny                245\n",
       "Manufacture_Year                617\n",
       "Start_date                        0\n",
       "End_date                          0\n",
       "ID                              362\n",
       "Age                             362\n",
       "Gender                          362\n",
       "City                            362\n",
       "Meshlem_polisa_IND              362\n",
       "NumInP                          362\n",
       "Tvia_number                    4848\n",
       "Tvia_date                      4848\n",
       "Rechecv_Companny_imputed_M2       0\n",
       "Rechecv_Companny_Missing_M3       0\n",
       "dtype: int64"
      ]
     },
     "execution_count": 265,
     "metadata": {},
     "output_type": "execute_result"
    }
   ],
   "source": [
    "X_train.isna().sum()"
   ]
  },
  {
   "cell_type": "code",
   "execution_count": 266,
   "metadata": {},
   "outputs": [],
   "source": [
    "X_train_city_plot = X_train.copy()"
   ]
  },
  {
   "cell_type": "markdown",
   "metadata": {},
   "source": [
    "### Imputation of missing values - categorical: City"
   ]
  },
  {
   "cell_type": "code",
   "execution_count": 267,
   "metadata": {},
   "outputs": [],
   "source": [
    "# For the practice, Let's assume that - the missing values (customers that exist only one table) are not random\n",
    "# so we will try to represent the missing data and will see if we have interesting patterns"
   ]
  },
  {
   "cell_type": "code",
   "execution_count": 268,
   "metadata": {},
   "outputs": [],
   "source": [
    "X_train_city_plot['City'].fillna('Missing', inplace=True)"
   ]
  },
  {
   "cell_type": "code",
   "execution_count": 269,
   "metadata": {},
   "outputs": [
    {
     "data": {
      "image/png": "[encoded data removed]",
      "text/plain": [
       "<Figure size 360x360 with 1 Axes>"
      ]
     },
     "metadata": {
      "needs_background": "light"
     },
     "output_type": "display_data"
    },
    {
     "data": {
      "image/png": "[encoded data removed]",
      "text/plain": [
       "<Figure size 360x360 with 1 Axes>"
      ]
     },
     "metadata": {
      "needs_background": "light"
     },
     "output_type": "display_data"
    }
   ],
   "source": [
    "sns.catplot(x=\"City\", kind=\"count\",data = X_train);\n",
    "sns.catplot(x=\"City\", kind=\"count\", data = X_train_city_plot);\n",
    "plt.show()"
   ]
  },
  {
   "cell_type": "code",
   "execution_count": 270,
   "metadata": {},
   "outputs": [],
   "source": [
    "X_train['City'].fillna('Missing', inplace=True)\n",
    "X_test['City'].fillna('Missing', inplace=True)\n",
    "# X_train.isna().sum()"
   ]
  },
  {
   "cell_type": "markdown",
   "metadata": {},
   "source": [
    "### Imputation of missing values - categorical: Gender"
   ]
  },
  {
   "cell_type": "code",
   "execution_count": 271,
   "metadata": {},
   "outputs": [],
   "source": [
    "# Because adding a new category is unlikely to reflect a real-world scenario, we will implement by random sampling"
   ]
  },
  {
   "cell_type": "code",
   "execution_count": 272,
   "metadata": {},
   "outputs": [],
   "source": [
    "X_train_nu1 = X_train.copy()\n",
    "X_test_nu1 = X_test.copy()"
   ]
  },
  {
   "cell_type": "code",
   "execution_count": 273,
   "metadata": {},
   "outputs": [],
   "source": [
    "# create the new variable where NA will be imputed:\n",
    "# make a copy from the original variable, with NA\n",
    "X_train_nu1['Gender_imputed'] = X_train['Gender'].copy()\n",
    "X_test_nu1['Gender_imputed'] = X_test['Gender'].copy()\n",
    "\n",
    "# extract the random sample to fill the na:\n",
    "random_sample_train_1 = X_train_nu1['Gender'].dropna().sample(X_train_nu1['Gender'].isnull().sum(), random_state=0)\n",
    "random_sample_test_1 = X_train_nu1['Gender'].dropna().sample(X_test_nu1['Gender'].isnull().sum(), random_state=0)\n",
    "\n",
    "random_sample_train_1.index = X_train_nu1[X_train_nu1['Gender'].isnull()].index\n",
    "random_sample_test_1.index = X_test_nu1[X_test_nu1['Gender'].isnull()].index\n",
    "# replace the NA in the newly created variable\n",
    "\n",
    "X_train_nu1.loc[X_train_nu1['Gender'].isnull(), 'Gender_imputed'] = random_sample_train_1\n",
    "X_test_nu1.loc[X_test_num2['Gender'].isnull(), 'Gender_imputed'] = random_sample_test_1"
   ]
  },
  {
   "cell_type": "code",
   "execution_count": 274,
   "metadata": {},
   "outputs": [
    {
     "data": {
      "image/png": "[encoded data removed]",
      "text/plain": [
       "<Figure size 360x360 with 1 Axes>"
      ]
     },
     "metadata": {
      "needs_background": "light"
     },
     "output_type": "display_data"
    },
    {
     "data": {
      "image/png": "[encoded data removed]",
      "text/plain": [
       "<Figure size 360x360 with 1 Axes>"
      ]
     },
     "metadata": {
      "needs_background": "light"
     },
     "output_type": "display_data"
    }
   ],
   "source": [
    "sns.catplot(x=\"Gender\", kind=\"count\", data = X_train);\n",
    "sns.catplot(x=\"Gender_imputed\", kind=\"count\", data = X_train_nu1);\n",
    "plt.show()"
   ]
  },
  {
   "cell_type": "code",
   "execution_count": 275,
   "metadata": {},
   "outputs": [],
   "source": [
    "X_train['Gender_imputed'] = X_train_nu1['Gender_imputed']\n",
    "X_test['Gender_imputed'] = X_test_nu1['Gender_imputed']"
   ]
  },
  {
   "cell_type": "code",
   "execution_count": 276,
   "metadata": {},
   "outputs": [
    {
     "data": {
      "text/plain": [
       "Keypls                            0\n",
       "Rishuy_number                     0\n",
       "Rechecv_Companny                245\n",
       "Manufacture_Year                617\n",
       "Start_date                        0\n",
       "End_date                          0\n",
       "ID                              362\n",
       "Age                             362\n",
       "Gender                          362\n",
       "City                              0\n",
       "Meshlem_polisa_IND              362\n",
       "NumInP                          362\n",
       "Tvia_number                    4848\n",
       "Tvia_date                      4848\n",
       "Rechecv_Companny_imputed_M2       0\n",
       "Rechecv_Companny_Missing_M3       0\n",
       "Gender_imputed                    0\n",
       "dtype: int64"
      ]
     },
     "execution_count": 276,
     "metadata": {},
     "output_type": "execute_result"
    }
   ],
   "source": [
    "X_train.isna().sum()"
   ]
  },
  {
   "cell_type": "markdown",
   "metadata": {},
   "source": [
    "### Imputation of missing values - continuous: Manufacture_Year"
   ]
  },
  {
   "cell_type": "markdown",
   "metadata": {},
   "source": [
    "### Imputation of missing values - continuous: Age"
   ]
  },
  {
   "cell_type": "code",
   "execution_count": 277,
   "metadata": {},
   "outputs": [],
   "source": [
    "# Age - for age we will try two methods \n",
    "# method one: multivariable "
   ]
  },
  {
   "cell_type": "code",
   "execution_count": 278,
   "metadata": {},
   "outputs": [],
   "source": [
    "#sns.distplot(X_train['Age'],kde=True,bins=30)"
   ]
  },
  {
   "cell_type": "code",
   "execution_count": 279,
   "metadata": {},
   "outputs": [
    {
     "data": {
      "text/html": [
       "<div>\n",
       "<style scoped>\n",
       "    .dataframe tbody tr th:only-of-type {\n",
       "        vertical-align: middle;\n",
       "    }\n",
       "\n",
       "    .dataframe tbody tr th {\n",
       "        vertical-align: top;\n",
       "    }\n",
       "\n",
       "    .dataframe thead th {\n",
       "        text-align: right;\n",
       "    }\n",
       "</style>\n",
       "<table border=\"1\" class=\"dataframe\">\n",
       "  <thead>\n",
       "    <tr style=\"text-align: right;\">\n",
       "      <th></th>\n",
       "      <th>Keypls</th>\n",
       "      <th>Rishuy_number</th>\n",
       "      <th>Manufacture_Year</th>\n",
       "      <th>ID</th>\n",
       "      <th>Age</th>\n",
       "      <th>Meshlem_polisa_IND</th>\n",
       "      <th>NumInP</th>\n",
       "      <th>Tvia_number</th>\n",
       "    </tr>\n",
       "  </thead>\n",
       "  <tbody>\n",
       "    <tr>\n",
       "      <th>Keypls</th>\n",
       "      <td>1.000000</td>\n",
       "      <td>1.000000</td>\n",
       "      <td>-0.020840</td>\n",
       "      <td>-0.004691</td>\n",
       "      <td>0.015528</td>\n",
       "      <td>0.018553</td>\n",
       "      <td>-0.029380</td>\n",
       "      <td>1.000000</td>\n",
       "    </tr>\n",
       "    <tr>\n",
       "      <th>Rishuy_number</th>\n",
       "      <td>1.000000</td>\n",
       "      <td>1.000000</td>\n",
       "      <td>-0.020840</td>\n",
       "      <td>-0.004691</td>\n",
       "      <td>0.015528</td>\n",
       "      <td>0.018553</td>\n",
       "      <td>-0.029380</td>\n",
       "      <td>1.000000</td>\n",
       "    </tr>\n",
       "    <tr>\n",
       "      <th>Manufacture_Year</th>\n",
       "      <td>-0.020840</td>\n",
       "      <td>-0.020840</td>\n",
       "      <td>1.000000</td>\n",
       "      <td>0.011406</td>\n",
       "      <td>0.033554</td>\n",
       "      <td>-0.013687</td>\n",
       "      <td>0.018038</td>\n",
       "      <td>-0.099693</td>\n",
       "    </tr>\n",
       "    <tr>\n",
       "      <th>ID</th>\n",
       "      <td>-0.004691</td>\n",
       "      <td>-0.004691</td>\n",
       "      <td>0.011406</td>\n",
       "      <td>1.000000</td>\n",
       "      <td>0.005148</td>\n",
       "      <td>0.463005</td>\n",
       "      <td>-0.016002</td>\n",
       "      <td>0.009572</td>\n",
       "    </tr>\n",
       "    <tr>\n",
       "      <th>Age</th>\n",
       "      <td>0.015528</td>\n",
       "      <td>0.015528</td>\n",
       "      <td>0.033554</td>\n",
       "      <td>0.005148</td>\n",
       "      <td>1.000000</td>\n",
       "      <td>-0.006481</td>\n",
       "      <td>-0.008471</td>\n",
       "      <td>-0.025773</td>\n",
       "    </tr>\n",
       "    <tr>\n",
       "      <th>Meshlem_polisa_IND</th>\n",
       "      <td>0.018553</td>\n",
       "      <td>0.018553</td>\n",
       "      <td>-0.013687</td>\n",
       "      <td>0.463005</td>\n",
       "      <td>-0.006481</td>\n",
       "      <td>1.000000</td>\n",
       "      <td>-0.449108</td>\n",
       "      <td>0.026799</td>\n",
       "    </tr>\n",
       "    <tr>\n",
       "      <th>NumInP</th>\n",
       "      <td>-0.029380</td>\n",
       "      <td>-0.029380</td>\n",
       "      <td>0.018038</td>\n",
       "      <td>-0.016002</td>\n",
       "      <td>-0.008471</td>\n",
       "      <td>-0.449108</td>\n",
       "      <td>1.000000</td>\n",
       "      <td>-0.064556</td>\n",
       "    </tr>\n",
       "    <tr>\n",
       "      <th>Tvia_number</th>\n",
       "      <td>1.000000</td>\n",
       "      <td>1.000000</td>\n",
       "      <td>-0.099693</td>\n",
       "      <td>0.009572</td>\n",
       "      <td>-0.025773</td>\n",
       "      <td>0.026799</td>\n",
       "      <td>-0.064556</td>\n",
       "      <td>1.000000</td>\n",
       "    </tr>\n",
       "  </tbody>\n",
       "</table>\n",
       "</div>"
      ],
      "text/plain": [
       "                      Keypls  Rishuy_number  Manufacture_Year        ID  \\\n",
       "Keypls              1.000000       1.000000         -0.020840 -0.004691   \n",
       "Rishuy_number       1.000000       1.000000         -0.020840 -0.004691   \n",
       "Manufacture_Year   -0.020840      -0.020840          1.000000  0.011406   \n",
       "ID                 -0.004691      -0.004691          0.011406  1.000000   \n",
       "Age                 0.015528       0.015528          0.033554  0.005148   \n",
       "Meshlem_polisa_IND  0.018553       0.018553         -0.013687  0.463005   \n",
       "NumInP             -0.029380      -0.029380          0.018038 -0.016002   \n",
       "Tvia_number         1.000000       1.000000         -0.099693  0.009572   \n",
       "\n",
       "                         Age  Meshlem_polisa_IND    NumInP  Tvia_number  \n",
       "Keypls              0.015528            0.018553 -0.029380     1.000000  \n",
       "Rishuy_number       0.015528            0.018553 -0.029380     1.000000  \n",
       "Manufacture_Year    0.033554           -0.013687  0.018038    -0.099693  \n",
       "ID                  0.005148            0.463005 -0.016002     0.009572  \n",
       "Age                 1.000000           -0.006481 -0.008471    -0.025773  \n",
       "Meshlem_polisa_IND -0.006481            1.000000 -0.449108     0.026799  \n",
       "NumInP             -0.008471           -0.449108  1.000000    -0.064556  \n",
       "Tvia_number        -0.025773            0.026799 -0.064556     1.000000  "
      ]
     },
     "execution_count": 279,
     "metadata": {},
     "output_type": "execute_result"
    }
   ],
   "source": [
    "dfnew = X_train.select_dtypes(include=np.number)\n",
    "dfnew_t = X_test.select_dtypes(include=np.number)\n",
    "dfnew.corr('spearman')\n",
    "#dfnew.corr()"
   ]
  },
  {
   "cell_type": "code",
   "execution_count": 280,
   "metadata": {},
   "outputs": [
    {
     "data": {
      "text/html": [
       "<div>\n",
       "<style scoped>\n",
       "    .dataframe tbody tr th:only-of-type {\n",
       "        vertical-align: middle;\n",
       "    }\n",
       "\n",
       "    .dataframe tbody tr th {\n",
       "        vertical-align: top;\n",
       "    }\n",
       "\n",
       "    .dataframe thead th {\n",
       "        text-align: right;\n",
       "    }\n",
       "</style>\n",
       "<table border=\"1\" class=\"dataframe\">\n",
       "  <thead>\n",
       "    <tr style=\"text-align: right;\">\n",
       "      <th></th>\n",
       "      <th>Age</th>\n",
       "      <th>Manufacture_Year</th>\n",
       "      <th>Rishuy_number</th>\n",
       "    </tr>\n",
       "  </thead>\n",
       "  <tbody>\n",
       "    <tr>\n",
       "      <th>5206</th>\n",
       "      <td>72.0</td>\n",
       "      <td>2002.0</td>\n",
       "      <td>73004927</td>\n",
       "    </tr>\n",
       "    <tr>\n",
       "      <th>7799</th>\n",
       "      <td>69.0</td>\n",
       "      <td>NaN</td>\n",
       "      <td>73006171</td>\n",
       "    </tr>\n",
       "    <tr>\n",
       "      <th>4290</th>\n",
       "      <td>56.0</td>\n",
       "      <td>2000.0</td>\n",
       "      <td>73004500</td>\n",
       "    </tr>\n",
       "  </tbody>\n",
       "</table>\n",
       "</div>"
      ],
      "text/plain": [
       "       Age  Manufacture_Year  Rishuy_number\n",
       "5206  72.0            2002.0       73004927\n",
       "7799  69.0               NaN       73006171\n",
       "4290  56.0            2000.0       73004500"
      ]
     },
     "execution_count": 280,
     "metadata": {},
     "output_type": "execute_result"
    }
   ],
   "source": [
    "cor_df = dfnew[['Age','Manufacture_Year','Rishuy_number']]\n",
    "cor_df_t = dfnew_t[['Age','Manufacture_Year','Rishuy_number']]\n",
    "cor_df.sample(3)"
   ]
  },
  {
   "cell_type": "code",
   "execution_count": 281,
   "metadata": {},
   "outputs": [
    {
     "data": {
      "text/plain": [
       "Age                 362\n",
       "Manufacture_Year    617\n",
       "Rishuy_number         0\n",
       "dtype: int64"
      ]
     },
     "execution_count": 281,
     "metadata": {},
     "output_type": "execute_result"
    }
   ],
   "source": [
    "cor_df.isna().sum()"
   ]
  },
  {
   "cell_type": "code",
   "execution_count": 282,
   "metadata": {},
   "outputs": [
    {
     "data": {
      "text/plain": [
       "(2553, 3)"
      ]
     },
     "execution_count": 282,
     "metadata": {},
     "output_type": "execute_result"
    }
   ],
   "source": [
    "imp = KNNImputer(n_neighbors =2)\n",
    "imp.fit(cor_df_t)\n",
    "imputed_df_t = imp.transform(cor_df_t)\n",
    "imputed_df_t = pd.DataFrame(imputed_df_t, columns=cor_df_t.columns)\n",
    "imputed_df_t.shape"
   ]
  },
  {
   "cell_type": "code",
   "execution_count": 283,
   "metadata": {},
   "outputs": [],
   "source": [
    "imp = KNNImputer(n_neighbors =2)\n",
    "imp.fit(cor_df)\n",
    "imputed_df = imp.transform(cor_df)\n",
    "imputed_df = pd.DataFrame(imputed_df, columns=cor_df.columns)"
   ]
  },
  {
   "cell_type": "code",
   "execution_count": 285,
   "metadata": {},
   "outputs": [
    {
     "data": {
      "text/plain": [
       "(2553, 1)"
      ]
     },
     "execution_count": 285,
     "metadata": {},
     "output_type": "execute_result"
    }
   ],
   "source": [
    "# to copy the new age column - we need to fit the indexs\n",
    "indexx = X_train['Age'].index\n",
    "type(indexx)\n",
    "indexx = indexx.to_frame(name= \"x\")\n",
    "indexx['x']\n",
    "\n",
    "indexx_test = X_test['Age'].index\n",
    "indexx_test = indexx_test.to_frame(name= \"x_t\")\n",
    "#indexx_test['x_t']\n",
    "indexx_test.shape"
   ]
  },
  {
   "cell_type": "code",
   "execution_count": 287,
   "metadata": {},
   "outputs": [],
   "source": [
    "imputed_df = imputed_df.set_index(indexx['x'])\n",
    "imputed_df_t = imputed_df_t.set_index(indexx_test['x_t'])"
   ]
  },
  {
   "cell_type": "code",
   "execution_count": 290,
   "metadata": {},
   "outputs": [
    {
     "data": {
      "text/plain": [
       "<AxesSubplot:ylabel='Density'>"
      ]
     },
     "execution_count": 290,
     "metadata": {},
     "output_type": "execute_result"
    },
    {
     "data": {
      "image/png": "[encoded data removed]",
      "text/plain": [
       "<Figure size 432x288 with 1 Axes>"
      ]
     },
     "metadata": {
      "needs_background": "light"
     },
     "output_type": "display_data"
    }
   ],
   "source": [
    "# let's check the distribution with na and with knn impliment\n",
    "X_train['Age'].plot(kind='kde', color='red')\n",
    "imputed_df['Age'].plot(kind='kde', color='green')"
   ]
  },
  {
   "cell_type": "code",
   "execution_count": null,
   "metadata": {},
   "outputs": [],
   "source": [
    "# we dont have big diffrence between the dis\n",
    "# now we copy the age by knn to our dataset as age_knn"
   ]
  },
  {
   "cell_type": "code",
   "execution_count": 86,
   "metadata": {},
   "outputs": [
    {
     "data": {
      "text/plain": [
       "x_t\n",
       "6918    72.0\n",
       "882     54.0\n",
       "7136    69.0\n",
       "528     66.0\n",
       "7525    63.0\n",
       "        ... \n",
       "7945    24.0\n",
       "219     57.0\n",
       "5007    61.0\n",
       "195     47.0\n",
       "6126    51.0\n",
       "Name: Age, Length: 2553, dtype: float64"
      ]
     },
     "execution_count": 86,
     "metadata": {},
     "output_type": "execute_result"
    }
   ],
   "source": [
    "#imputed_df_t['Age']"
   ]
  },
  {
   "cell_type": "code",
   "execution_count": 87,
   "metadata": {},
   "outputs": [
    {
     "data": {
      "text/plain": [
       "6918    72.0\n",
       "882     54.0\n",
       "7136    69.0\n",
       "528     66.0\n",
       "7525    63.0\n",
       "        ... \n",
       "7945    24.0\n",
       "219     57.0\n",
       "5007    61.0\n",
       "195     47.0\n",
       "6126    51.0\n",
       "Name: Age, Length: 2553, dtype: float64"
      ]
     },
     "execution_count": 87,
     "metadata": {},
     "output_type": "execute_result"
    }
   ],
   "source": [
    "#X_test['Age']"
   ]
  },
  {
   "cell_type": "code",
   "execution_count": 291,
   "metadata": {},
   "outputs": [
    {
     "data": {
      "text/html": [
       "<div>\n",
       "<style scoped>\n",
       "    .dataframe tbody tr th:only-of-type {\n",
       "        vertical-align: middle;\n",
       "    }\n",
       "\n",
       "    .dataframe tbody tr th {\n",
       "        vertical-align: top;\n",
       "    }\n",
       "\n",
       "    .dataframe thead th {\n",
       "        text-align: right;\n",
       "    }\n",
       "</style>\n",
       "<table border=\"1\" class=\"dataframe\">\n",
       "  <thead>\n",
       "    <tr style=\"text-align: right;\">\n",
       "      <th></th>\n",
       "      <th>Keypls</th>\n",
       "      <th>Rishuy_number</th>\n",
       "      <th>Rechecv_Companny</th>\n",
       "      <th>Manufacture_Year</th>\n",
       "      <th>Start_date</th>\n",
       "      <th>End_date</th>\n",
       "      <th>ID</th>\n",
       "      <th>Age</th>\n",
       "      <th>Gender</th>\n",
       "      <th>City</th>\n",
       "      <th>Meshlem_polisa_IND</th>\n",
       "      <th>NumInP</th>\n",
       "      <th>Tvia_number</th>\n",
       "      <th>Tvia_date</th>\n",
       "      <th>Rechecv_Companny_imputed_M2</th>\n",
       "      <th>Rechecv_Companny_Missing_M3</th>\n",
       "      <th>Gender_imputed</th>\n",
       "      <th>Age_knn</th>\n",
       "    </tr>\n",
       "  </thead>\n",
       "  <tbody>\n",
       "    <tr>\n",
       "      <th>4665</th>\n",
       "      <td>3185</td>\n",
       "      <td>73004685</td>\n",
       "      <td>Mazda</td>\n",
       "      <td>2004.0</td>\n",
       "      <td>2016-09-03</td>\n",
       "      <td>2017-09-03</td>\n",
       "      <td>300602180.0</td>\n",
       "      <td>38.0</td>\n",
       "      <td>Male</td>\n",
       "      <td>Tel Aviv</td>\n",
       "      <td>0.0</td>\n",
       "      <td>3.0</td>\n",
       "      <td>NaN</td>\n",
       "      <td>NaN</td>\n",
       "      <td>Mazda</td>\n",
       "      <td>Mazda</td>\n",
       "      <td>Male</td>\n",
       "      <td>38.0</td>\n",
       "    </tr>\n",
       "    <tr>\n",
       "      <th>6809</th>\n",
       "      <td>4196</td>\n",
       "      <td>73005696</td>\n",
       "      <td>Ford</td>\n",
       "      <td>2009.0</td>\n",
       "      <td>2016-05-02</td>\n",
       "      <td>2017-02-21</td>\n",
       "      <td>300606970.0</td>\n",
       "      <td>18.0</td>\n",
       "      <td>Male</td>\n",
       "      <td>Haifa</td>\n",
       "      <td>1.0</td>\n",
       "      <td>2.0</td>\n",
       "      <td>NaN</td>\n",
       "      <td>NaN</td>\n",
       "      <td>Ford</td>\n",
       "      <td>Ford</td>\n",
       "      <td>Male</td>\n",
       "      <td>18.0</td>\n",
       "    </tr>\n",
       "    <tr>\n",
       "      <th>5152</th>\n",
       "      <td>3403</td>\n",
       "      <td>73004903</td>\n",
       "      <td>BMW</td>\n",
       "      <td>2002.0</td>\n",
       "      <td>2016-11-11</td>\n",
       "      <td>2017-11-11</td>\n",
       "      <td>300605562.0</td>\n",
       "      <td>64.0</td>\n",
       "      <td>Female</td>\n",
       "      <td>Tel Aviv</td>\n",
       "      <td>0.0</td>\n",
       "      <td>4.0</td>\n",
       "      <td>5774409.0</td>\n",
       "      <td>2017-05-05</td>\n",
       "      <td>BMW</td>\n",
       "      <td>BMW</td>\n",
       "      <td>Female</td>\n",
       "      <td>64.0</td>\n",
       "    </tr>\n",
       "  </tbody>\n",
       "</table>\n",
       "</div>"
      ],
      "text/plain": [
       "      Keypls  Rishuy_number Rechecv_Companny  Manufacture_Year  Start_date  \\\n",
       "4665    3185       73004685            Mazda            2004.0  2016-09-03   \n",
       "6809    4196       73005696             Ford            2009.0  2016-05-02   \n",
       "5152    3403       73004903              BMW            2002.0  2016-11-11   \n",
       "\n",
       "        End_date           ID   Age  Gender      City  Meshlem_polisa_IND  \\\n",
       "4665  2017-09-03  300602180.0  38.0    Male  Tel Aviv                 0.0   \n",
       "6809  2017-02-21  300606970.0  18.0    Male     Haifa                 1.0   \n",
       "5152  2017-11-11  300605562.0  64.0  Female  Tel Aviv                 0.0   \n",
       "\n",
       "      NumInP  Tvia_number   Tvia_date Rechecv_Companny_imputed_M2  \\\n",
       "4665     3.0          NaN         NaN                       Mazda   \n",
       "6809     2.0          NaN         NaN                        Ford   \n",
       "5152     4.0    5774409.0  2017-05-05                         BMW   \n",
       "\n",
       "     Rechecv_Companny_Missing_M3 Gender_imputed  Age_knn  \n",
       "4665                       Mazda           Male     38.0  \n",
       "6809                        Ford           Male     18.0  \n",
       "5152                         BMW         Female     64.0  "
      ]
     },
     "execution_count": 291,
     "metadata": {},
     "output_type": "execute_result"
    }
   ],
   "source": [
    "X_train['Age_knn'] = imputed_df['Age']\n",
    "X_test['Age_knn'] = imputed_df_t['Age']\n",
    "X_test.sample(3)"
   ]
  },
  {
   "cell_type": "code",
   "execution_count": 292,
   "metadata": {},
   "outputs": [
    {
     "data": {
      "text/plain": [
       "Keypls                            0\n",
       "Rishuy_number                     0\n",
       "Rechecv_Companny                245\n",
       "Manufacture_Year                617\n",
       "Start_date                        0\n",
       "End_date                          0\n",
       "ID                              362\n",
       "Age                             362\n",
       "Gender                          362\n",
       "City                              0\n",
       "Meshlem_polisa_IND              362\n",
       "NumInP                          362\n",
       "Tvia_number                    4848\n",
       "Tvia_date                      4848\n",
       "Rechecv_Companny_imputed_M2       0\n",
       "Rechecv_Companny_Missing_M3       0\n",
       "Gender_imputed                    0\n",
       "Age_knn                           0\n",
       "dtype: int64"
      ]
     },
     "execution_count": 292,
     "metadata": {},
     "output_type": "execute_result"
    }
   ],
   "source": [
    "X_train.isna().sum()"
   ]
  },
  {
   "cell_type": "markdown",
   "metadata": {},
   "source": [
    "### Imputation of missing values - continuous: Manufacture_Year "
   ]
  },
  {
   "cell_type": "code",
   "execution_count": 91,
   "metadata": {},
   "outputs": [],
   "source": [
    "X_train_nu2 = X_train.copy()\n",
    "X_test_nu2 = X_test.copy()"
   ]
  },
  {
   "cell_type": "code",
   "execution_count": 293,
   "metadata": {},
   "outputs": [],
   "source": [
    "# create the new variable where NA will be imputed:\n",
    "# make a copy from the original variable, with NA\n",
    "X_train_nu2['Manufacture_Year_imputed'] = X_train['Manufacture_Year'].copy()\n",
    "X_test_nu2['Manufacture_Year_imputed'] = X_test['Manufacture_Year'].copy()\n",
    "# extract the random sample to fill the na:\n",
    "\n",
    "random_sample_train_2 = X_train_nu2['Manufacture_Year'].dropna().sample(X_train_nu2['Manufacture_Year'].isnull().sum(), random_state=0)\n",
    "random_sample_test_2 = X_train_nu2['Manufacture_Year'].dropna().sample(X_test_nu2['Manufacture_Year'].isnull().sum(), random_state=0)\n",
    "\n",
    "random_sample_train_2.index = X_train_nu2[X_train_nu2['Manufacture_Year'].isnull()].index\n",
    "random_sample_test_2.index = X_test_nu2[X_test_nu1['Manufacture_Year'].isnull()].index\n",
    "\n",
    "# replace the NA in the newly created variable\n",
    "X_train_nu2.loc[X_train_nu2['Manufacture_Year'].isnull(), 'Manufacture_Year_imputed'] = random_sample_train_2\n",
    "X_test_nu2.loc[X_test_nu2['Manufacture_Year'].isnull(), 'Manufacture_Year_imputed'] = random_sample_test_2\n"
   ]
  },
  {
   "cell_type": "code",
   "execution_count": 295,
   "metadata": {},
   "outputs": [],
   "source": [
    "#X_train_nu2.isna().sum()"
   ]
  },
  {
   "cell_type": "code",
   "execution_count": 296,
   "metadata": {},
   "outputs": [
    {
     "data": {
      "text/plain": [
       "<AxesSubplot:ylabel='Density'>"
      ]
     },
     "execution_count": 296,
     "metadata": {},
     "output_type": "execute_result"
    },
    {
     "data": {
      "image/png": "[encoded data removed]",
      "text/plain": [
       "<Figure size 432x288 with 1 Axes>"
      ]
     },
     "metadata": {
      "needs_background": "light"
     },
     "output_type": "display_data"
    }
   ],
   "source": [
    "X_train['Manufacture_Year'].plot(kind='kde', color='red')\n",
    "X_train_nu2['Manufacture_Year_imputed'].plot(kind='kde', color='green')"
   ]
  },
  {
   "cell_type": "code",
   "execution_count": 96,
   "metadata": {},
   "outputs": [],
   "source": [
    "X_train['Manufacture_Year_imputed'] = X_train_nu2['Manufacture_Year_imputed']\n",
    "X_test['Manufacture_Year_imputed'] = X_test_nu2['Manufacture_Year_imputed']"
   ]
  },
  {
   "cell_type": "code",
   "execution_count": 97,
   "metadata": {},
   "outputs": [
    {
     "data": {
      "text/plain": [
       "Keypls                            0\n",
       "Rishuy_number                     0\n",
       "Rechecv_Companny                245\n",
       "Manufacture_Year                617\n",
       "Start_date                        0\n",
       "End_date                          0\n",
       "ID                              362\n",
       "Age                             362\n",
       "Gender                          362\n",
       "City                              0\n",
       "Meshlem_polisa_IND              362\n",
       "NumInP                          362\n",
       "Tvia_number                    4848\n",
       "Tvia_date                      4848\n",
       "Rechecv_Companny_imputed_M2       0\n",
       "Rechecv_Companny_Missing_M3       0\n",
       "Gender_imputed                    0\n",
       "Age_knn                           0\n",
       "Manufacture_Year_imputed          0\n",
       "dtype: int64"
      ]
     },
     "execution_count": 97,
     "metadata": {},
     "output_type": "execute_result"
    }
   ],
   "source": [
    "X_train.isna().sum()"
   ]
  },
  {
   "cell_type": "code",
   "execution_count": 338,
   "metadata": {},
   "outputs": [],
   "source": [
    "# X_train.to_csv(r'/Users/roni/Google Drive/DS-ML Project 2021/datasets/temp/after_miss/insurance_X_train_after_miising.csv', index = False)\n",
    "# X_test.to_csv(r'/Users/roni/Google Drive/DS-ML Project 2021/datasets/temp/after_miss/insurance_X_test_after_miising.csv', index = False)\n",
    "# y_train.to_csv(r'/Users/roni/Google Drive/DS-ML Project 2021/datasets/temp/after_miss/insurance_y_train_after_miising.csv', index = False)\n",
    "# y_test.to_csv(r'/Users/roni/Google Drive/DS-ML Project 2021/datasets/temp/after_miss/insurance_y_test_after_miising.csv', index = False)\n",
    "\n",
    "X_train = pd.read_csv(r'/Users/roni/Google Drive/DS-ML Project 2021/datasets/temp/after_miss/insurance_X_train_after_miising.csv')\n",
    "X_test = pd.read_csv(r'/Users/roni/Google Drive/DS-ML Project 2021/datasets/temp/after_miss/insurance_X_test_after_miising.csv')\n",
    "y_train = pd.read_csv(r'/Users/roni/Google Drive/DS-ML Project 2021/datasets/temp/after_miss/insurance_y_train_after_miising.csv')\n",
    "y_test = pd.read_csv(r'/Users/roni/Google Drive/DS-ML Project 2021/datasets/temp/after_miss/insurance_y_test_after_miising.csv')"
   ]
  },
  {
   "cell_type": "markdown",
   "metadata": {},
   "source": [
    "### Categorical Variable Encoding "
   ]
  },
  {
   "cell_type": "code",
   "execution_count": 339,
   "metadata": {},
   "outputs": [],
   "source": [
    "# before encoding - let's remove unused variables "
   ]
  },
  {
   "cell_type": "code",
   "execution_count": 340,
   "metadata": {},
   "outputs": [
    {
     "data": {
      "text/plain": [
       "Keypls                            0\n",
       "Rishuy_number                     0\n",
       "Rechecv_Companny                245\n",
       "Manufacture_Year                617\n",
       "Start_date                        0\n",
       "End_date                          0\n",
       "ID                              362\n",
       "Age                             362\n",
       "Gender                          362\n",
       "City                              0\n",
       "Meshlem_polisa_IND              362\n",
       "NumInP                          362\n",
       "Tvia_number                    4848\n",
       "Tvia_date                      4848\n",
       "Rechecv_Companny_imputed_M2       0\n",
       "Rechecv_Companny_Missing_M3       0\n",
       "Gender_imputed                    0\n",
       "Age_knn                           0\n",
       "dtype: int64"
      ]
     },
     "execution_count": 340,
     "metadata": {},
     "output_type": "execute_result"
    }
   ],
   "source": [
    "X_train.isna().sum()"
   ]
  },
  {
   "cell_type": "code",
   "execution_count": 341,
   "metadata": {},
   "outputs": [
    {
     "data": {
      "text/plain": [
       "Keypls                           0\n",
       "Rishuy_number                    0\n",
       "Rechecv_Companny               245\n",
       "Manufacture_Year               617\n",
       "Age                            362\n",
       "Gender                         362\n",
       "City                             0\n",
       "NumInP                         362\n",
       "Rechecv_Companny_imputed_M2      0\n",
       "Rechecv_Companny_Missing_M3      0\n",
       "Gender_imputed                   0\n",
       "Age_knn                          0\n",
       "dtype: int64"
      ]
     },
     "execution_count": 341,
     "metadata": {},
     "output_type": "execute_result"
    }
   ],
   "source": [
    "X_train = X_train.drop(['ID','Meshlem_polisa_IND','Tvia_number','Tvia_date','Start_date','End_date'], axis=1)\n",
    "X_test = X_test.drop(['ID','Meshlem_polisa_IND','Tvia_number','Tvia_date','Start_date','End_date'], axis=1)\n",
    "X_train.isna().sum()"
   ]
  },
  {
   "cell_type": "code",
   "execution_count": 342,
   "metadata": {},
   "outputs": [
    {
     "data": {
      "text/html": [
       "<div>\n",
       "<style scoped>\n",
       "    .dataframe tbody tr th:only-of-type {\n",
       "        vertical-align: middle;\n",
       "    }\n",
       "\n",
       "    .dataframe tbody tr th {\n",
       "        vertical-align: top;\n",
       "    }\n",
       "\n",
       "    .dataframe thead th {\n",
       "        text-align: right;\n",
       "    }\n",
       "</style>\n",
       "<table border=\"1\" class=\"dataframe\">\n",
       "  <thead>\n",
       "    <tr style=\"text-align: right;\">\n",
       "      <th></th>\n",
       "      <th>Rechecv_Companny</th>\n",
       "      <th>Gender</th>\n",
       "      <th>City</th>\n",
       "      <th>Rechecv_Companny_imputed_M2</th>\n",
       "      <th>Rechecv_Companny_Missing_M3</th>\n",
       "      <th>Gender_imputed</th>\n",
       "    </tr>\n",
       "  </thead>\n",
       "  <tbody>\n",
       "    <tr>\n",
       "      <th>count</th>\n",
       "      <td>5710</td>\n",
       "      <td>5593</td>\n",
       "      <td>5955</td>\n",
       "      <td>5955</td>\n",
       "      <td>5955</td>\n",
       "      <td>5955</td>\n",
       "    </tr>\n",
       "    <tr>\n",
       "      <th>unique</th>\n",
       "      <td>5</td>\n",
       "      <td>2</td>\n",
       "      <td>7</td>\n",
       "      <td>5</td>\n",
       "      <td>6</td>\n",
       "      <td>2</td>\n",
       "    </tr>\n",
       "    <tr>\n",
       "      <th>top</th>\n",
       "      <td>Ford</td>\n",
       "      <td>Female</td>\n",
       "      <td>Tel Aviv</td>\n",
       "      <td>Ford</td>\n",
       "      <td>Ford</td>\n",
       "      <td>Female</td>\n",
       "    </tr>\n",
       "    <tr>\n",
       "      <th>freq</th>\n",
       "      <td>1845</td>\n",
       "      <td>2849</td>\n",
       "      <td>1753</td>\n",
       "      <td>1929</td>\n",
       "      <td>1845</td>\n",
       "      <td>3034</td>\n",
       "    </tr>\n",
       "  </tbody>\n",
       "</table>\n",
       "</div>"
      ],
      "text/plain": [
       "       Rechecv_Companny  Gender      City Rechecv_Companny_imputed_M2  \\\n",
       "count              5710    5593      5955                        5955   \n",
       "unique                5       2         7                           5   \n",
       "top                Ford  Female  Tel Aviv                        Ford   \n",
       "freq               1845    2849      1753                        1929   \n",
       "\n",
       "       Rechecv_Companny_Missing_M3 Gender_imputed  \n",
       "count                         5955           5955  \n",
       "unique                           6              2  \n",
       "top                           Ford         Female  \n",
       "freq                          1845           3034  "
      ]
     },
     "execution_count": 342,
     "metadata": {},
     "output_type": "execute_result"
    }
   ],
   "source": [
    "# Describe only nun-numeric fetures \n",
    "X_train_cat = X_train.describe(include=['O'])\n",
    "X_train_cat"
   ]
  },
  {
   "cell_type": "code",
   "execution_count": 343,
   "metadata": {},
   "outputs": [
    {
     "name": "stdout",
     "output_type": "stream",
     "text": [
      "Rechecv_Companny : 4 labels\n",
      "Gender : 4 labels\n",
      "City : 4 labels\n",
      "Rechecv_Companny_imputed_M2 : 4 labels\n",
      "Rechecv_Companny_Missing_M3 : 4 labels\n",
      "Gender_imputed : 4 labels\n"
     ]
    }
   ],
   "source": [
    "# let's have a look at how many labels each variable has\n",
    "for col in X_train_cat.columns:\n",
    " print(col, ':', len(X_train_cat[col].unique()), 'labels')"
   ]
  },
  {
   "cell_type": "code",
   "execution_count": 344,
   "metadata": {},
   "outputs": [
    {
     "data": {
      "text/plain": [
       "Gender\n",
       "Female    2849\n",
       "Male      2744\n",
       "dtype: int64"
      ]
     },
     "execution_count": 344,
     "metadata": {},
     "output_type": "execute_result"
    }
   ],
   "source": [
    "X_train.groupby(\"Gender\").size()"
   ]
  },
  {
   "cell_type": "code",
   "execution_count": 345,
   "metadata": {},
   "outputs": [
    {
     "data": {
      "text/plain": [
       "array(['Ford', 'Mazda', 'Fiat', nan, 'BMW', 'Tesla'], dtype=object)"
      ]
     },
     "execution_count": 345,
     "metadata": {},
     "output_type": "execute_result"
    }
   ],
   "source": [
    "X_train['Rechecv_Companny'].unique()"
   ]
  },
  {
   "cell_type": "code",
   "execution_count": 346,
   "metadata": {},
   "outputs": [
    {
     "data": {
      "text/plain": [
       "array(['Ford', 'Mazda', 'Fiat', 'Missing', 'BMW', 'Tesla'], dtype=object)"
      ]
     },
     "execution_count": 346,
     "metadata": {},
     "output_type": "execute_result"
    }
   ],
   "source": [
    "X_train['Rechecv_Companny_Missing_M3'].unique()"
   ]
  },
  {
   "cell_type": "code",
   "execution_count": 347,
   "metadata": {},
   "outputs": [
    {
     "data": {
      "text/plain": [
       "array(['Dimona', 'Tira', 'Tel Aviv', 'Haifa', 'Ashdod', 'Jerusalem',\n",
       "       'Missing'], dtype=object)"
      ]
     },
     "execution_count": 347,
     "metadata": {},
     "output_type": "execute_result"
    }
   ],
   "source": [
    "X_train['City'].unique()"
   ]
  },
  {
   "cell_type": "markdown",
   "metadata": {},
   "source": [
    "### Gender - one hot encoding"
   ]
  },
  {
   "cell_type": "code",
   "execution_count": 349,
   "metadata": {},
   "outputs": [
    {
     "data": {
      "text/html": [
       "<div>\n",
       "<style scoped>\n",
       "    .dataframe tbody tr th:only-of-type {\n",
       "        vertical-align: middle;\n",
       "    }\n",
       "\n",
       "    .dataframe tbody tr th {\n",
       "        vertical-align: top;\n",
       "    }\n",
       "\n",
       "    .dataframe thead th {\n",
       "        text-align: right;\n",
       "    }\n",
       "</style>\n",
       "<table border=\"1\" class=\"dataframe\">\n",
       "  <thead>\n",
       "    <tr style=\"text-align: right;\">\n",
       "      <th></th>\n",
       "      <th>Female</th>\n",
       "      <th>Male</th>\n",
       "    </tr>\n",
       "  </thead>\n",
       "  <tbody>\n",
       "    <tr>\n",
       "      <th>0</th>\n",
       "      <td>0</td>\n",
       "      <td>1</td>\n",
       "    </tr>\n",
       "    <tr>\n",
       "      <th>1</th>\n",
       "      <td>0</td>\n",
       "      <td>1</td>\n",
       "    </tr>\n",
       "    <tr>\n",
       "      <th>2</th>\n",
       "      <td>1</td>\n",
       "      <td>0</td>\n",
       "    </tr>\n",
       "    <tr>\n",
       "      <th>3</th>\n",
       "      <td>0</td>\n",
       "      <td>1</td>\n",
       "    </tr>\n",
       "    <tr>\n",
       "      <th>4</th>\n",
       "      <td>1</td>\n",
       "      <td>0</td>\n",
       "    </tr>\n",
       "  </tbody>\n",
       "</table>\n",
       "</div>"
      ],
      "text/plain": [
       "   Female  Male\n",
       "0       0     1\n",
       "1       0     1\n",
       "2       1     0\n",
       "3       0     1\n",
       "4       1     0"
      ]
     },
     "execution_count": 349,
     "metadata": {},
     "output_type": "execute_result"
    }
   ],
   "source": [
    "# we can create dummy variables with the build in \n",
    "# pandas method get_dummies \n",
    "tmp = pd.get_dummies(X_train['Gender']) \n",
    "tmp.head()"
   ]
  },
  {
   "cell_type": "code",
   "execution_count": 350,
   "metadata": {},
   "outputs": [
    {
     "data": {
      "text/html": [
       "<div>\n",
       "<style scoped>\n",
       "    .dataframe tbody tr th:only-of-type {\n",
       "        vertical-align: middle;\n",
       "    }\n",
       "\n",
       "    .dataframe tbody tr th {\n",
       "        vertical-align: top;\n",
       "    }\n",
       "\n",
       "    .dataframe thead th {\n",
       "        text-align: right;\n",
       "    }\n",
       "</style>\n",
       "<table border=\"1\" class=\"dataframe\">\n",
       "  <thead>\n",
       "    <tr style=\"text-align: right;\">\n",
       "      <th></th>\n",
       "      <th>Gender</th>\n",
       "      <th>Female</th>\n",
       "      <th>Male</th>\n",
       "    </tr>\n",
       "  </thead>\n",
       "  <tbody>\n",
       "    <tr>\n",
       "      <th>0</th>\n",
       "      <td>Male</td>\n",
       "      <td>0</td>\n",
       "      <td>1</td>\n",
       "    </tr>\n",
       "    <tr>\n",
       "      <th>1</th>\n",
       "      <td>Male</td>\n",
       "      <td>0</td>\n",
       "      <td>1</td>\n",
       "    </tr>\n",
       "    <tr>\n",
       "      <th>2</th>\n",
       "      <td>Female</td>\n",
       "      <td>1</td>\n",
       "      <td>0</td>\n",
       "    </tr>\n",
       "    <tr>\n",
       "      <th>3</th>\n",
       "      <td>Male</td>\n",
       "      <td>0</td>\n",
       "      <td>1</td>\n",
       "    </tr>\n",
       "    <tr>\n",
       "      <th>4</th>\n",
       "      <td>Female</td>\n",
       "      <td>1</td>\n",
       "      <td>0</td>\n",
       "    </tr>\n",
       "  </tbody>\n",
       "</table>\n",
       "</div>"
      ],
      "text/plain": [
       "   Gender  Female  Male\n",
       "0    Male       0     1\n",
       "1    Male       0     1\n",
       "2  Female       1     0\n",
       "3    Male       0     1\n",
       "4  Female       1     0"
      ]
     },
     "execution_count": 350,
     "metadata": {},
     "output_type": "execute_result"
    }
   ],
   "source": [
    "# for better visualisation let's put the dummies next to the original variable \n",
    "pd.concat([X_train['Gender'], pd.get_dummies(X_train['Gender'])],axis = 1).head()"
   ]
  },
  {
   "cell_type": "code",
   "execution_count": 351,
   "metadata": {},
   "outputs": [
    {
     "data": {
      "text/html": [
       "<div>\n",
       "<style scoped>\n",
       "    .dataframe tbody tr th:only-of-type {\n",
       "        vertical-align: middle;\n",
       "    }\n",
       "\n",
       "    .dataframe tbody tr th {\n",
       "        vertical-align: top;\n",
       "    }\n",
       "\n",
       "    .dataframe thead th {\n",
       "        text-align: right;\n",
       "    }\n",
       "</style>\n",
       "<table border=\"1\" class=\"dataframe\">\n",
       "  <thead>\n",
       "    <tr style=\"text-align: right;\">\n",
       "      <th></th>\n",
       "      <th>Keypls</th>\n",
       "      <th>Rishuy_number</th>\n",
       "      <th>Rechecv_Companny</th>\n",
       "      <th>Manufacture_Year</th>\n",
       "      <th>Age</th>\n",
       "      <th>Gender</th>\n",
       "      <th>City</th>\n",
       "      <th>NumInP</th>\n",
       "      <th>Rechecv_Companny_imputed_M2</th>\n",
       "      <th>Rechecv_Companny_Missing_M3</th>\n",
       "      <th>Gender_imputed</th>\n",
       "      <th>Age_knn</th>\n",
       "      <th>Female</th>\n",
       "      <th>Male</th>\n",
       "    </tr>\n",
       "  </thead>\n",
       "  <tbody>\n",
       "    <tr>\n",
       "      <th>0</th>\n",
       "      <td>1734</td>\n",
       "      <td>73003234</td>\n",
       "      <td>Ford</td>\n",
       "      <td>2003.0</td>\n",
       "      <td>17.0</td>\n",
       "      <td>Male</td>\n",
       "      <td>Dimona</td>\n",
       "      <td>3.0</td>\n",
       "      <td>Ford</td>\n",
       "      <td>Ford</td>\n",
       "      <td>Male</td>\n",
       "      <td>17.0</td>\n",
       "      <td>0</td>\n",
       "      <td>1</td>\n",
       "    </tr>\n",
       "    <tr>\n",
       "      <th>1</th>\n",
       "      <td>2017</td>\n",
       "      <td>73003517</td>\n",
       "      <td>Mazda</td>\n",
       "      <td>2011.0</td>\n",
       "      <td>60.0</td>\n",
       "      <td>Male</td>\n",
       "      <td>Tira</td>\n",
       "      <td>5.0</td>\n",
       "      <td>Mazda</td>\n",
       "      <td>Mazda</td>\n",
       "      <td>Male</td>\n",
       "      <td>60.0</td>\n",
       "      <td>0</td>\n",
       "      <td>1</td>\n",
       "    </tr>\n",
       "    <tr>\n",
       "      <th>2</th>\n",
       "      <td>2478</td>\n",
       "      <td>73003978</td>\n",
       "      <td>Mazda</td>\n",
       "      <td>2013.0</td>\n",
       "      <td>75.0</td>\n",
       "      <td>Female</td>\n",
       "      <td>Tel Aviv</td>\n",
       "      <td>2.0</td>\n",
       "      <td>Mazda</td>\n",
       "      <td>Mazda</td>\n",
       "      <td>Female</td>\n",
       "      <td>75.0</td>\n",
       "      <td>1</td>\n",
       "      <td>0</td>\n",
       "    </tr>\n",
       "    <tr>\n",
       "      <th>3</th>\n",
       "      <td>2170</td>\n",
       "      <td>73003670</td>\n",
       "      <td>Mazda</td>\n",
       "      <td>2010.0</td>\n",
       "      <td>27.0</td>\n",
       "      <td>Male</td>\n",
       "      <td>Tel Aviv</td>\n",
       "      <td>3.0</td>\n",
       "      <td>Mazda</td>\n",
       "      <td>Mazda</td>\n",
       "      <td>Male</td>\n",
       "      <td>27.0</td>\n",
       "      <td>0</td>\n",
       "      <td>1</td>\n",
       "    </tr>\n",
       "    <tr>\n",
       "      <th>4</th>\n",
       "      <td>3748</td>\n",
       "      <td>73005248</td>\n",
       "      <td>Fiat</td>\n",
       "      <td>2013.0</td>\n",
       "      <td>70.0</td>\n",
       "      <td>Female</td>\n",
       "      <td>Haifa</td>\n",
       "      <td>3.0</td>\n",
       "      <td>Fiat</td>\n",
       "      <td>Fiat</td>\n",
       "      <td>Female</td>\n",
       "      <td>70.0</td>\n",
       "      <td>1</td>\n",
       "      <td>0</td>\n",
       "    </tr>\n",
       "  </tbody>\n",
       "</table>\n",
       "</div>"
      ],
      "text/plain": [
       "   Keypls  Rishuy_number Rechecv_Companny  Manufacture_Year   Age  Gender  \\\n",
       "0    1734       73003234             Ford            2003.0  17.0    Male   \n",
       "1    2017       73003517            Mazda            2011.0  60.0    Male   \n",
       "2    2478       73003978            Mazda            2013.0  75.0  Female   \n",
       "3    2170       73003670            Mazda            2010.0  27.0    Male   \n",
       "4    3748       73005248             Fiat            2013.0  70.0  Female   \n",
       "\n",
       "       City  NumInP Rechecv_Companny_imputed_M2 Rechecv_Companny_Missing_M3  \\\n",
       "0    Dimona     3.0                        Ford                        Ford   \n",
       "1      Tira     5.0                       Mazda                       Mazda   \n",
       "2  Tel Aviv     2.0                       Mazda                       Mazda   \n",
       "3  Tel Aviv     3.0                       Mazda                       Mazda   \n",
       "4     Haifa     3.0                        Fiat                        Fiat   \n",
       "\n",
       "  Gender_imputed  Age_knn  Female  Male  \n",
       "0           Male     17.0       0     1  \n",
       "1           Male     60.0       0     1  \n",
       "2         Female     75.0       1     0  \n",
       "3           Male     27.0       0     1  \n",
       "4         Female     70.0       1     0  "
      ]
     },
     "execution_count": 351,
     "metadata": {},
     "output_type": "execute_result"
    }
   ],
   "source": [
    "X_train = pd.concat([X_train,pd.get_dummies(X_train['Gender'])],axis =1 )\n",
    "X_test = pd.concat([ X_test , pd.get_dummies(X_train[ 'Gender' ])], axis = 1 ) # x_test by -- x_train\n",
    "X_train.head()"
   ]
  },
  {
   "cell_type": "markdown",
   "metadata": {},
   "source": [
    "### Rechecv_Companny - Target encodings"
   ]
  },
  {
   "cell_type": "markdown",
   "metadata": {},
   "source": [
    "### Method 1: Target guided encodings"
   ]
  },
  {
   "cell_type": "code",
   "execution_count": 353,
   "metadata": {},
   "outputs": [
    {
     "data": {
      "text/plain": [
       "Index(['Rechecv_Companny', 'Gender', 'City', 'Rechecv_Companny_imputed_M2',\n",
       "       'Rechecv_Companny_Missing_M3', 'Gender_imputed'],\n",
       "      dtype='object')"
      ]
     },
     "execution_count": 353,
     "metadata": {},
     "output_type": "execute_result"
    }
   ],
   "source": [
    "X_train_cat.columns"
   ]
  },
  {
   "cell_type": "code",
   "execution_count": 354,
   "metadata": {},
   "outputs": [
    {
     "data": {
      "text/html": [
       "<div>\n",
       "<style scoped>\n",
       "    .dataframe tbody tr th:only-of-type {\n",
       "        vertical-align: middle;\n",
       "    }\n",
       "\n",
       "    .dataframe tbody tr th {\n",
       "        vertical-align: top;\n",
       "    }\n",
       "\n",
       "    .dataframe thead th {\n",
       "        text-align: right;\n",
       "    }\n",
       "</style>\n",
       "<table border=\"1\" class=\"dataframe\">\n",
       "  <thead>\n",
       "    <tr style=\"text-align: right;\">\n",
       "      <th></th>\n",
       "      <th>Keypls</th>\n",
       "      <th>Rishuy_number</th>\n",
       "      <th>Rechecv_Companny</th>\n",
       "      <th>Manufacture_Year</th>\n",
       "      <th>Age</th>\n",
       "      <th>Gender</th>\n",
       "      <th>City</th>\n",
       "      <th>NumInP</th>\n",
       "      <th>Rechecv_Companny_imputed_M2</th>\n",
       "      <th>Rechecv_Companny_Missing_M3</th>\n",
       "      <th>Gender_imputed</th>\n",
       "      <th>Age_knn</th>\n",
       "      <th>Female</th>\n",
       "      <th>Male</th>\n",
       "      <th>y</th>\n",
       "    </tr>\n",
       "  </thead>\n",
       "  <tbody>\n",
       "    <tr>\n",
       "      <th>0</th>\n",
       "      <td>1734</td>\n",
       "      <td>73003234</td>\n",
       "      <td>Ford</td>\n",
       "      <td>2003.0</td>\n",
       "      <td>17.0</td>\n",
       "      <td>Male</td>\n",
       "      <td>Dimona</td>\n",
       "      <td>3.0</td>\n",
       "      <td>Ford</td>\n",
       "      <td>Ford</td>\n",
       "      <td>Male</td>\n",
       "      <td>17.0</td>\n",
       "      <td>0</td>\n",
       "      <td>1</td>\n",
       "      <td>0</td>\n",
       "    </tr>\n",
       "    <tr>\n",
       "      <th>1</th>\n",
       "      <td>2017</td>\n",
       "      <td>73003517</td>\n",
       "      <td>Mazda</td>\n",
       "      <td>2011.0</td>\n",
       "      <td>60.0</td>\n",
       "      <td>Male</td>\n",
       "      <td>Tira</td>\n",
       "      <td>5.0</td>\n",
       "      <td>Mazda</td>\n",
       "      <td>Mazda</td>\n",
       "      <td>Male</td>\n",
       "      <td>60.0</td>\n",
       "      <td>0</td>\n",
       "      <td>1</td>\n",
       "      <td>0</td>\n",
       "    </tr>\n",
       "    <tr>\n",
       "      <th>2</th>\n",
       "      <td>2478</td>\n",
       "      <td>73003978</td>\n",
       "      <td>Mazda</td>\n",
       "      <td>2013.0</td>\n",
       "      <td>75.0</td>\n",
       "      <td>Female</td>\n",
       "      <td>Tel Aviv</td>\n",
       "      <td>2.0</td>\n",
       "      <td>Mazda</td>\n",
       "      <td>Mazda</td>\n",
       "      <td>Female</td>\n",
       "      <td>75.0</td>\n",
       "      <td>1</td>\n",
       "      <td>0</td>\n",
       "      <td>0</td>\n",
       "    </tr>\n",
       "  </tbody>\n",
       "</table>\n",
       "</div>"
      ],
      "text/plain": [
       "   Keypls  Rishuy_number Rechecv_Companny  Manufacture_Year   Age  Gender  \\\n",
       "0    1734       73003234             Ford            2003.0  17.0    Male   \n",
       "1    2017       73003517            Mazda            2011.0  60.0    Male   \n",
       "2    2478       73003978            Mazda            2013.0  75.0  Female   \n",
       "\n",
       "       City  NumInP Rechecv_Companny_imputed_M2 Rechecv_Companny_Missing_M3  \\\n",
       "0    Dimona     3.0                        Ford                        Ford   \n",
       "1      Tira     5.0                       Mazda                       Mazda   \n",
       "2  Tel Aviv     2.0                       Mazda                       Mazda   \n",
       "\n",
       "  Gender_imputed  Age_knn  Female  Male  y  \n",
       "0           Male     17.0       0     1  0  \n",
       "1           Male     60.0       0     1  0  \n",
       "2         Female     75.0       1     0  0  "
      ]
     },
     "execution_count": 354,
     "metadata": {},
     "output_type": "execute_result"
    }
   ],
   "source": [
    "X_train_wy = X_train.copy()\n",
    "X_test_wy = X_test.copy()\n",
    "X_train_wy['y'] = y_train['y'].copy()\n",
    "X_test_wy['y'] = y_test['y'].copy()\n",
    "X_train_wy.head(3)"
   ]
  },
  {
   "cell_type": "code",
   "execution_count": 355,
   "metadata": {},
   "outputs": [
    {
     "data": {
      "image/png": "[encoded data removed]",
      "text/plain": [
       "<Figure size 432x288 with 1 Axes>"
      ]
     },
     "metadata": {
      "needs_background": "light"
     },
     "output_type": "display_data"
    },
    {
     "data": {
      "image/png": "[encoded data removed]",
      "text/plain": [
       "<Figure size 432x288 with 1 Axes>"
      ]
     },
     "metadata": {
      "needs_background": "light"
     },
     "output_type": "display_data"
    },
    {
     "data": {
      "image/png": "[encoded data removed]",
      "text/plain": [
       "<Figure size 432x288 with 1 Axes>"
      ]
     },
     "metadata": {
      "needs_background": "light"
     },
     "output_type": "display_data"
    }
   ],
   "source": [
    "# let's explore the relationship of the categories with the target\n",
    "for var in ['Rechecv_Companny', 'Gender', 'City']:\n",
    "    fig = plt.figure()\n",
    "    fig = X_train_wy.groupby([var])['y'].mean().plot()\n",
    "    fig.set_title('Relationship between {} and X_train_wy'.format(var))\n",
    "    fig.set_ylabel('Mean y')\n",
    "    plt.show()"
   ]
  },
  {
   "cell_type": "code",
   "execution_count": 356,
   "metadata": {},
   "outputs": [
    {
     "data": {
      "text/plain": [
       "City\n",
       "Jerusalem    0.178230\n",
       "Tel Aviv     0.181403\n",
       "Tira         0.181818\n",
       "Missing      0.190608\n",
       "Ashdod       0.192580\n",
       "Haifa        0.194690\n",
       "Dimona       0.218085\n",
       "Name: y, dtype: float64"
      ]
     },
     "execution_count": 356,
     "metadata": {},
     "output_type": "execute_result"
    }
   ],
   "source": [
    "# let's order the labels according to the mean target value\n",
    "X_train_wy.groupby(X_train_wy['City'])['y'].mean().sort_values()"
   ]
  },
  {
   "cell_type": "code",
   "execution_count": 357,
   "metadata": {},
   "outputs": [
    {
     "data": {
      "text/plain": [
       "Index(['Jerusalem', 'Tel Aviv', 'Tira', 'Missing', 'Ashdod', 'Haifa',\n",
       "       'Dimona'],\n",
       "      dtype='object', name='City')"
      ]
     },
     "execution_count": 357,
     "metadata": {},
     "output_type": "execute_result"
    }
   ],
   "source": [
    "# first we generate an ordered list with the labels\n",
    "ordered_labels = X_train_wy.groupby(['City'])['y'].mean().sort_values().index\n",
    "ordered_labels"
   ]
  },
  {
   "cell_type": "code",
   "execution_count": 358,
   "metadata": {},
   "outputs": [
    {
     "data": {
      "text/plain": [
       "{'Jerusalem': 0,\n",
       " 'Tel Aviv': 1,\n",
       " 'Tira': 2,\n",
       " 'Missing': 3,\n",
       " 'Ashdod': 4,\n",
       " 'Haifa': 5,\n",
       " 'Dimona': 6}"
      ]
     },
     "execution_count": 358,
     "metadata": {},
     "output_type": "execute_result"
    }
   ],
   "source": [
    "# next let's create a dictionary with the mappings of categories to numbers\n",
    "ordinal_mapping = {k: i for i, k in enumerate(ordered_labels, 0)}\n",
    "ordinal_mapping"
   ]
  },
  {
   "cell_type": "code",
   "execution_count": 359,
   "metadata": {},
   "outputs": [],
   "source": [
    "# now, we replace the labels with the integers\n",
    "X_train['City_orencod_mean'] = X_train_wy['City'].map(ordinal_mapping)\n",
    "X_test['City_orencod_mean'] = X_test_wy['City'].map(ordinal_mapping)"
   ]
  },
  {
   "cell_type": "code",
   "execution_count": 128,
   "metadata": {},
   "outputs": [],
   "source": [
    "#we created monotonic relathenship between city to y "
   ]
  },
  {
   "cell_type": "code",
   "execution_count": 366,
   "metadata": {},
   "outputs": [
    {
     "data": {
      "image/png": "[encoded data removed]",
      "text/plain": [
       "<Figure size 432x288 with 1 Axes>"
      ]
     },
     "metadata": {
      "needs_background": "light"
     },
     "output_type": "display_data"
    }
   ],
   "source": [
    "fig = X_train_wy.groupby(X_train['City_orencod_mean'])['y'].mean().plot()"
   ]
  },
  {
   "cell_type": "markdown",
   "metadata": {},
   "source": [
    "### Method 2: Mean-Encoding"
   ]
  },
  {
   "cell_type": "code",
   "execution_count": 131,
   "metadata": {},
   "outputs": [
    {
     "data": {
      "text/plain": [
       "City\n",
       "Jerusalem    0.178230\n",
       "Tel Aviv     0.181403\n",
       "Tira         0.181818\n",
       "Missing      0.190608\n",
       "Ashdod       0.192580\n",
       "Haifa        0.194690\n",
       "Dimona       0.218085\n",
       "Name: y, dtype: float64"
      ]
     },
     "execution_count": 131,
     "metadata": {},
     "output_type": "execute_result"
    }
   ],
   "source": [
    "# let's order the labels according to the mean target value\n",
    "X_train_wy.groupby(X_train_wy['City'])['y'].mean().sort_values()"
   ]
  },
  {
   "cell_type": "code",
   "execution_count": 368,
   "metadata": {},
   "outputs": [
    {
     "data": {
      "text/plain": [
       "{'Ashdod': 0.19257950530035337,\n",
       " 'Dimona': 0.21808510638297873,\n",
       " 'Haifa': 0.19469026548672566,\n",
       " 'Jerusalem': 0.17823042647994908,\n",
       " 'Missing': 0.19060773480662985,\n",
       " 'Tel Aviv': 0.1814033086138049,\n",
       " 'Tira': 0.18181818181818182}"
      ]
     },
     "execution_count": 368,
     "metadata": {},
     "output_type": "execute_result"
    }
   ],
   "source": [
    "# and now let's do the same but capturing the result in a dictionary\n",
    "ordered_labels = X_train_wy.groupby(['City'])['y'].mean().to_dict()\n",
    "ordered_labels"
   ]
  },
  {
   "cell_type": "code",
   "execution_count": 369,
   "metadata": {},
   "outputs": [],
   "source": [
    "# now, we replace the labels with the target means\n",
    "X_train['City_by_mean'] = X_train_wy['City'].map(ordered_labels)\n",
    "X_test['City_by_mean'] = X_test_wy['City'].map(ordered_labels)"
   ]
  },
  {
   "cell_type": "code",
   "execution_count": 371,
   "metadata": {},
   "outputs": [
    {
     "data": {
      "text/html": [
       "<div>\n",
       "<style scoped>\n",
       "    .dataframe tbody tr th:only-of-type {\n",
       "        vertical-align: middle;\n",
       "    }\n",
       "\n",
       "    .dataframe tbody tr th {\n",
       "        vertical-align: top;\n",
       "    }\n",
       "\n",
       "    .dataframe thead th {\n",
       "        text-align: right;\n",
       "    }\n",
       "</style>\n",
       "<table border=\"1\" class=\"dataframe\">\n",
       "  <thead>\n",
       "    <tr style=\"text-align: right;\">\n",
       "      <th></th>\n",
       "      <th>Keypls</th>\n",
       "      <th>Rishuy_number</th>\n",
       "      <th>Rechecv_Companny</th>\n",
       "      <th>Manufacture_Year</th>\n",
       "      <th>Age</th>\n",
       "      <th>Gender</th>\n",
       "      <th>City</th>\n",
       "      <th>NumInP</th>\n",
       "      <th>Rechecv_Companny_imputed_M2</th>\n",
       "      <th>Rechecv_Companny_Missing_M3</th>\n",
       "      <th>Gender_imputed</th>\n",
       "      <th>Age_knn</th>\n",
       "      <th>Female</th>\n",
       "      <th>Male</th>\n",
       "      <th>City_orencod_mean</th>\n",
       "      <th>City_by_mean</th>\n",
       "    </tr>\n",
       "  </thead>\n",
       "  <tbody>\n",
       "    <tr>\n",
       "      <th>0</th>\n",
       "      <td>1734</td>\n",
       "      <td>73003234</td>\n",
       "      <td>Ford</td>\n",
       "      <td>2003.0</td>\n",
       "      <td>17.0</td>\n",
       "      <td>Male</td>\n",
       "      <td>Dimona</td>\n",
       "      <td>3.0</td>\n",
       "      <td>Ford</td>\n",
       "      <td>Ford</td>\n",
       "      <td>Male</td>\n",
       "      <td>17.0</td>\n",
       "      <td>0</td>\n",
       "      <td>1</td>\n",
       "      <td>6</td>\n",
       "      <td>0.218085</td>\n",
       "    </tr>\n",
       "    <tr>\n",
       "      <th>1</th>\n",
       "      <td>2017</td>\n",
       "      <td>73003517</td>\n",
       "      <td>Mazda</td>\n",
       "      <td>2011.0</td>\n",
       "      <td>60.0</td>\n",
       "      <td>Male</td>\n",
       "      <td>Tira</td>\n",
       "      <td>5.0</td>\n",
       "      <td>Mazda</td>\n",
       "      <td>Mazda</td>\n",
       "      <td>Male</td>\n",
       "      <td>60.0</td>\n",
       "      <td>0</td>\n",
       "      <td>1</td>\n",
       "      <td>2</td>\n",
       "      <td>0.181818</td>\n",
       "    </tr>\n",
       "    <tr>\n",
       "      <th>2</th>\n",
       "      <td>2478</td>\n",
       "      <td>73003978</td>\n",
       "      <td>Mazda</td>\n",
       "      <td>2013.0</td>\n",
       "      <td>75.0</td>\n",
       "      <td>Female</td>\n",
       "      <td>Tel Aviv</td>\n",
       "      <td>2.0</td>\n",
       "      <td>Mazda</td>\n",
       "      <td>Mazda</td>\n",
       "      <td>Female</td>\n",
       "      <td>75.0</td>\n",
       "      <td>1</td>\n",
       "      <td>0</td>\n",
       "      <td>1</td>\n",
       "      <td>0.181403</td>\n",
       "    </tr>\n",
       "    <tr>\n",
       "      <th>3</th>\n",
       "      <td>2170</td>\n",
       "      <td>73003670</td>\n",
       "      <td>Mazda</td>\n",
       "      <td>2010.0</td>\n",
       "      <td>27.0</td>\n",
       "      <td>Male</td>\n",
       "      <td>Tel Aviv</td>\n",
       "      <td>3.0</td>\n",
       "      <td>Mazda</td>\n",
       "      <td>Mazda</td>\n",
       "      <td>Male</td>\n",
       "      <td>27.0</td>\n",
       "      <td>0</td>\n",
       "      <td>1</td>\n",
       "      <td>1</td>\n",
       "      <td>0.181403</td>\n",
       "    </tr>\n",
       "  </tbody>\n",
       "</table>\n",
       "</div>"
      ],
      "text/plain": [
       "   Keypls  Rishuy_number Rechecv_Companny  Manufacture_Year   Age  Gender  \\\n",
       "0    1734       73003234             Ford            2003.0  17.0    Male   \n",
       "1    2017       73003517            Mazda            2011.0  60.0    Male   \n",
       "2    2478       73003978            Mazda            2013.0  75.0  Female   \n",
       "3    2170       73003670            Mazda            2010.0  27.0    Male   \n",
       "\n",
       "       City  NumInP Rechecv_Companny_imputed_M2 Rechecv_Companny_Missing_M3  \\\n",
       "0    Dimona     3.0                        Ford                        Ford   \n",
       "1      Tira     5.0                       Mazda                       Mazda   \n",
       "2  Tel Aviv     2.0                       Mazda                       Mazda   \n",
       "3  Tel Aviv     3.0                       Mazda                       Mazda   \n",
       "\n",
       "  Gender_imputed  Age_knn  Female  Male  City_orencod_mean  City_by_mean  \n",
       "0           Male     17.0       0     1                  6      0.218085  \n",
       "1           Male     60.0       0     1                  2      0.181818  \n",
       "2         Female     75.0       1     0                  1      0.181403  \n",
       "3           Male     27.0       0     1                  1      0.181403  "
      ]
     },
     "execution_count": 371,
     "metadata": {},
     "output_type": "execute_result"
    }
   ],
   "source": [
    "X_train.head(4)"
   ]
  },
  {
   "cell_type": "code",
   "execution_count": 372,
   "metadata": {},
   "outputs": [
    {
     "data": {
      "image/png": "[encoded data removed]",
      "text/plain": [
       "<Figure size 432x288 with 1 Axes>"
      ]
     },
     "metadata": {
      "needs_background": "light"
     },
     "output_type": "display_data"
    }
   ],
   "source": [
    "fig = X_train_wy.groupby(X_train['City_by_mean'])['y'].mean().plot()"
   ]
  },
  {
   "cell_type": "markdown",
   "metadata": {},
   "source": [
    "### Method 3:  Probability-Ratio-Encoding "
   ]
  },
  {
   "cell_type": "code",
   "execution_count": 137,
   "metadata": {},
   "outputs": [
    {
     "data": {
      "text/html": [
       "<div>\n",
       "<style scoped>\n",
       "    .dataframe tbody tr th:only-of-type {\n",
       "        vertical-align: middle;\n",
       "    }\n",
       "\n",
       "    .dataframe tbody tr th {\n",
       "        vertical-align: top;\n",
       "    }\n",
       "\n",
       "    .dataframe thead th {\n",
       "        text-align: right;\n",
       "    }\n",
       "</style>\n",
       "<table border=\"1\" class=\"dataframe\">\n",
       "  <thead>\n",
       "    <tr style=\"text-align: right;\">\n",
       "      <th></th>\n",
       "      <th>y</th>\n",
       "    </tr>\n",
       "    <tr>\n",
       "      <th>City</th>\n",
       "      <th></th>\n",
       "    </tr>\n",
       "  </thead>\n",
       "  <tbody>\n",
       "    <tr>\n",
       "      <th>Ashdod</th>\n",
       "      <td>0.192580</td>\n",
       "    </tr>\n",
       "    <tr>\n",
       "      <th>Dimona</th>\n",
       "      <td>0.218085</td>\n",
       "    </tr>\n",
       "    <tr>\n",
       "      <th>Haifa</th>\n",
       "      <td>0.194690</td>\n",
       "    </tr>\n",
       "    <tr>\n",
       "      <th>Jerusalem</th>\n",
       "      <td>0.178230</td>\n",
       "    </tr>\n",
       "    <tr>\n",
       "      <th>Missing</th>\n",
       "      <td>0.190608</td>\n",
       "    </tr>\n",
       "    <tr>\n",
       "      <th>Tel Aviv</th>\n",
       "      <td>0.181403</td>\n",
       "    </tr>\n",
       "    <tr>\n",
       "      <th>Tira</th>\n",
       "      <td>0.181818</td>\n",
       "    </tr>\n",
       "  </tbody>\n",
       "</table>\n",
       "</div>"
      ],
      "text/plain": [
       "                  y\n",
       "City               \n",
       "Ashdod     0.192580\n",
       "Dimona     0.218085\n",
       "Haifa      0.194690\n",
       "Jerusalem  0.178230\n",
       "Missing    0.190608\n",
       "Tel Aviv   0.181403\n",
       "Tira       0.181818"
      ]
     },
     "execution_count": 137,
     "metadata": {},
     "output_type": "execute_result"
    }
   ],
   "source": [
    "# let's calculate the probability of claim = 1 per category\n",
    "prob_df = X_train_wy.groupby(['City'])['y'].mean()\n",
    "prob_df = pd.DataFrame(prob_df)\n",
    "prob_df"
   ]
  },
  {
   "cell_type": "code",
   "execution_count": 138,
   "metadata": {},
   "outputs": [
    {
     "data": {
      "text/html": [
       "<div>\n",
       "<style scoped>\n",
       "    .dataframe tbody tr th:only-of-type {\n",
       "        vertical-align: middle;\n",
       "    }\n",
       "\n",
       "    .dataframe tbody tr th {\n",
       "        vertical-align: top;\n",
       "    }\n",
       "\n",
       "    .dataframe thead th {\n",
       "        text-align: right;\n",
       "    }\n",
       "</style>\n",
       "<table border=\"1\" class=\"dataframe\">\n",
       "  <thead>\n",
       "    <tr style=\"text-align: right;\">\n",
       "      <th></th>\n",
       "      <th>y</th>\n",
       "      <th>not_y</th>\n",
       "    </tr>\n",
       "    <tr>\n",
       "      <th>City</th>\n",
       "      <th></th>\n",
       "      <th></th>\n",
       "    </tr>\n",
       "  </thead>\n",
       "  <tbody>\n",
       "    <tr>\n",
       "      <th>Ashdod</th>\n",
       "      <td>0.192580</td>\n",
       "      <td>0.807420</td>\n",
       "    </tr>\n",
       "    <tr>\n",
       "      <th>Dimona</th>\n",
       "      <td>0.218085</td>\n",
       "      <td>0.781915</td>\n",
       "    </tr>\n",
       "    <tr>\n",
       "      <th>Haifa</th>\n",
       "      <td>0.194690</td>\n",
       "      <td>0.805310</td>\n",
       "    </tr>\n",
       "    <tr>\n",
       "      <th>Jerusalem</th>\n",
       "      <td>0.178230</td>\n",
       "      <td>0.821770</td>\n",
       "    </tr>\n",
       "    <tr>\n",
       "      <th>Missing</th>\n",
       "      <td>0.190608</td>\n",
       "      <td>0.809392</td>\n",
       "    </tr>\n",
       "    <tr>\n",
       "      <th>Tel Aviv</th>\n",
       "      <td>0.181403</td>\n",
       "      <td>0.818597</td>\n",
       "    </tr>\n",
       "    <tr>\n",
       "      <th>Tira</th>\n",
       "      <td>0.181818</td>\n",
       "      <td>0.818182</td>\n",
       "    </tr>\n",
       "  </tbody>\n",
       "</table>\n",
       "</div>"
      ],
      "text/plain": [
       "                  y     not_y\n",
       "City                         \n",
       "Ashdod     0.192580  0.807420\n",
       "Dimona     0.218085  0.781915\n",
       "Haifa      0.194690  0.805310\n",
       "Jerusalem  0.178230  0.821770\n",
       "Missing    0.190608  0.809392\n",
       "Tel Aviv   0.181403  0.818597\n",
       "Tira       0.181818  0.818182"
      ]
     },
     "execution_count": 138,
     "metadata": {},
     "output_type": "execute_result"
    }
   ],
   "source": [
    "# and now the probability of claim = 0\n",
    "prob_df['not_y'] = 1 - prob_df['y']\n",
    "prob_df"
   ]
  },
  {
   "cell_type": "code",
   "execution_count": 139,
   "metadata": {},
   "outputs": [
    {
     "data": {
      "text/html": [
       "<div>\n",
       "<style scoped>\n",
       "    .dataframe tbody tr th:only-of-type {\n",
       "        vertical-align: middle;\n",
       "    }\n",
       "\n",
       "    .dataframe tbody tr th {\n",
       "        vertical-align: top;\n",
       "    }\n",
       "\n",
       "    .dataframe thead th {\n",
       "        text-align: right;\n",
       "    }\n",
       "</style>\n",
       "<table border=\"1\" class=\"dataframe\">\n",
       "  <thead>\n",
       "    <tr style=\"text-align: right;\">\n",
       "      <th></th>\n",
       "      <th>y</th>\n",
       "      <th>not_y</th>\n",
       "      <th>ratio</th>\n",
       "    </tr>\n",
       "    <tr>\n",
       "      <th>City</th>\n",
       "      <th></th>\n",
       "      <th></th>\n",
       "      <th></th>\n",
       "    </tr>\n",
       "  </thead>\n",
       "  <tbody>\n",
       "    <tr>\n",
       "      <th>Ashdod</th>\n",
       "      <td>0.192580</td>\n",
       "      <td>0.807420</td>\n",
       "      <td>0.238512</td>\n",
       "    </tr>\n",
       "    <tr>\n",
       "      <th>Dimona</th>\n",
       "      <td>0.218085</td>\n",
       "      <td>0.781915</td>\n",
       "      <td>0.278912</td>\n",
       "    </tr>\n",
       "    <tr>\n",
       "      <th>Haifa</th>\n",
       "      <td>0.194690</td>\n",
       "      <td>0.805310</td>\n",
       "      <td>0.241758</td>\n",
       "    </tr>\n",
       "    <tr>\n",
       "      <th>Jerusalem</th>\n",
       "      <td>0.178230</td>\n",
       "      <td>0.821770</td>\n",
       "      <td>0.216886</td>\n",
       "    </tr>\n",
       "    <tr>\n",
       "      <th>Missing</th>\n",
       "      <td>0.190608</td>\n",
       "      <td>0.809392</td>\n",
       "      <td>0.235495</td>\n",
       "    </tr>\n",
       "    <tr>\n",
       "      <th>Tel Aviv</th>\n",
       "      <td>0.181403</td>\n",
       "      <td>0.818597</td>\n",
       "      <td>0.221603</td>\n",
       "    </tr>\n",
       "    <tr>\n",
       "      <th>Tira</th>\n",
       "      <td>0.181818</td>\n",
       "      <td>0.818182</td>\n",
       "      <td>0.222222</td>\n",
       "    </tr>\n",
       "  </tbody>\n",
       "</table>\n",
       "</div>"
      ],
      "text/plain": [
       "                  y     not_y     ratio\n",
       "City                                   \n",
       "Ashdod     0.192580  0.807420  0.238512\n",
       "Dimona     0.218085  0.781915  0.278912\n",
       "Haifa      0.194690  0.805310  0.241758\n",
       "Jerusalem  0.178230  0.821770  0.216886\n",
       "Missing    0.190608  0.809392  0.235495\n",
       "Tel Aviv   0.181403  0.818597  0.221603\n",
       "Tira       0.181818  0.818182  0.222222"
      ]
     },
     "execution_count": 139,
     "metadata": {},
     "output_type": "execute_result"
    }
   ],
   "source": [
    "# and now the ratio\n",
    "prob_df['ratio'] = prob_df['y'] / prob_df['not_y']\n",
    "prob_df"
   ]
  },
  {
   "cell_type": "code",
   "execution_count": 140,
   "metadata": {},
   "outputs": [
    {
     "data": {
      "text/plain": [
       "{'Ashdod': 0.23851203501094095,\n",
       " 'Dimona': 0.27891156462585037,\n",
       " 'Haifa': 0.24175824175824173,\n",
       " 'Jerusalem': 0.21688613477924087,\n",
       " 'Missing': 0.2354948805460751,\n",
       " 'Tel Aviv': 0.22160278745644602,\n",
       " 'Tira': 0.22222222222222224}"
      ]
     },
     "execution_count": 140,
     "metadata": {},
     "output_type": "execute_result"
    }
   ],
   "source": [
    "# and now let's capture the ratio in a dictionary\n",
    "ordered_labels = prob_df['ratio'].to_dict()\n",
    "ordered_labels"
   ]
  },
  {
   "cell_type": "code",
   "execution_count": 374,
   "metadata": {},
   "outputs": [],
   "source": [
    "# now, we replace the labels with the ratios\n",
    "X_train['City_prob'] = X_train_wy['City'].map(ordered_labels)\n",
    "X_test['City_prob'] = X_test_wy['City'].map(ordered_labels)"
   ]
  },
  {
   "cell_type": "code",
   "execution_count": 375,
   "metadata": {},
   "outputs": [
    {
     "data": {
      "image/png": "[encoded data removed]",
      "text/plain": [
       "<Figure size 432x288 with 1 Axes>"
      ]
     },
     "metadata": {
      "needs_background": "light"
     },
     "output_type": "display_data"
    }
   ],
   "source": [
    "# let's explore the result\n",
    "fig = X_train_wy.groupby(X_train['City_prob'])['y'].mean().plot()"
   ]
  },
  {
   "cell_type": "code",
   "execution_count": 377,
   "metadata": {},
   "outputs": [
    {
     "data": {
      "text/html": [
       "<div>\n",
       "<style scoped>\n",
       "    .dataframe tbody tr th:only-of-type {\n",
       "        vertical-align: middle;\n",
       "    }\n",
       "\n",
       "    .dataframe tbody tr th {\n",
       "        vertical-align: top;\n",
       "    }\n",
       "\n",
       "    .dataframe thead th {\n",
       "        text-align: right;\n",
       "    }\n",
       "</style>\n",
       "<table border=\"1\" class=\"dataframe\">\n",
       "  <thead>\n",
       "    <tr style=\"text-align: right;\">\n",
       "      <th></th>\n",
       "      <th>Keypls</th>\n",
       "      <th>Rishuy_number</th>\n",
       "      <th>Rechecv_Companny</th>\n",
       "      <th>Manufacture_Year</th>\n",
       "      <th>Age</th>\n",
       "      <th>Gender</th>\n",
       "      <th>City</th>\n",
       "      <th>NumInP</th>\n",
       "      <th>Rechecv_Companny_imputed_M2</th>\n",
       "      <th>Rechecv_Companny_Missing_M3</th>\n",
       "      <th>Gender_imputed</th>\n",
       "      <th>Age_knn</th>\n",
       "      <th>Female</th>\n",
       "      <th>Male</th>\n",
       "      <th>y</th>\n",
       "    </tr>\n",
       "  </thead>\n",
       "  <tbody>\n",
       "    <tr>\n",
       "      <th>5035</th>\n",
       "      <td>2112</td>\n",
       "      <td>73003612</td>\n",
       "      <td>Fiat</td>\n",
       "      <td>2006.0</td>\n",
       "      <td>60.0</td>\n",
       "      <td>Female</td>\n",
       "      <td>Tel Aviv</td>\n",
       "      <td>2.0</td>\n",
       "      <td>Fiat</td>\n",
       "      <td>Fiat</td>\n",
       "      <td>Female</td>\n",
       "      <td>60.0</td>\n",
       "      <td>1</td>\n",
       "      <td>0</td>\n",
       "      <td>0</td>\n",
       "    </tr>\n",
       "    <tr>\n",
       "      <th>5467</th>\n",
       "      <td>1369</td>\n",
       "      <td>73002869</td>\n",
       "      <td>Ford</td>\n",
       "      <td>2016.0</td>\n",
       "      <td>46.0</td>\n",
       "      <td>Male</td>\n",
       "      <td>Tel Aviv</td>\n",
       "      <td>3.0</td>\n",
       "      <td>Ford</td>\n",
       "      <td>Ford</td>\n",
       "      <td>Male</td>\n",
       "      <td>46.0</td>\n",
       "      <td>0</td>\n",
       "      <td>1</td>\n",
       "      <td>0</td>\n",
       "    </tr>\n",
       "    <tr>\n",
       "      <th>3938</th>\n",
       "      <td>3694</td>\n",
       "      <td>73005194</td>\n",
       "      <td>Ford</td>\n",
       "      <td>NaN</td>\n",
       "      <td>NaN</td>\n",
       "      <td>NaN</td>\n",
       "      <td>Missing</td>\n",
       "      <td>NaN</td>\n",
       "      <td>Ford</td>\n",
       "      <td>Ford</td>\n",
       "      <td>Female</td>\n",
       "      <td>63.5</td>\n",
       "      <td>0</td>\n",
       "      <td>0</td>\n",
       "      <td>1</td>\n",
       "    </tr>\n",
       "    <tr>\n",
       "      <th>1782</th>\n",
       "      <td>3122</td>\n",
       "      <td>73004622</td>\n",
       "      <td>BMW</td>\n",
       "      <td>2011.0</td>\n",
       "      <td>57.0</td>\n",
       "      <td>Female</td>\n",
       "      <td>Jerusalem</td>\n",
       "      <td>6.0</td>\n",
       "      <td>BMW</td>\n",
       "      <td>BMW</td>\n",
       "      <td>Female</td>\n",
       "      <td>57.0</td>\n",
       "      <td>1</td>\n",
       "      <td>0</td>\n",
       "      <td>0</td>\n",
       "    </tr>\n",
       "  </tbody>\n",
       "</table>\n",
       "</div>"
      ],
      "text/plain": [
       "      Keypls  Rishuy_number Rechecv_Companny  Manufacture_Year   Age  Gender  \\\n",
       "5035    2112       73003612             Fiat            2006.0  60.0  Female   \n",
       "5467    1369       73002869             Ford            2016.0  46.0    Male   \n",
       "3938    3694       73005194             Ford               NaN   NaN     NaN   \n",
       "1782    3122       73004622              BMW            2011.0  57.0  Female   \n",
       "\n",
       "           City  NumInP Rechecv_Companny_imputed_M2  \\\n",
       "5035   Tel Aviv     2.0                        Fiat   \n",
       "5467   Tel Aviv     3.0                        Ford   \n",
       "3938    Missing     NaN                        Ford   \n",
       "1782  Jerusalem     6.0                         BMW   \n",
       "\n",
       "     Rechecv_Companny_Missing_M3 Gender_imputed  Age_knn  Female  Male  y  \n",
       "5035                        Fiat         Female     60.0       1     0  0  \n",
       "5467                        Ford           Male     46.0       0     1  0  \n",
       "3938                        Ford         Female     63.5       0     0  1  \n",
       "1782                         BMW         Female     57.0       1     0  0  "
      ]
     },
     "execution_count": 377,
     "metadata": {},
     "output_type": "execute_result"
    }
   ],
   "source": [
    "## Rechecv_Companny - we will encode this variable by the mean method \n",
    "X_train_wy.sample(4)"
   ]
  },
  {
   "cell_type": "code",
   "execution_count": 378,
   "metadata": {},
   "outputs": [
    {
     "data": {
      "image/png": "[encoded data removed]",
      "text/plain": [
       "<Figure size 432x288 with 1 Axes>"
      ]
     },
     "metadata": {
      "needs_background": "light"
     },
     "output_type": "display_data"
    }
   ],
   "source": [
    "fig = X_train_wy.groupby(X_train['Rechecv_Companny_imputed_M2'])['y'].mean().plot()"
   ]
  },
  {
   "cell_type": "code",
   "execution_count": 379,
   "metadata": {},
   "outputs": [
    {
     "data": {
      "text/plain": [
       "Rechecv_Companny_Missing_M3\n",
       "Tesla      0.062914\n",
       "Ford       0.064499\n",
       "Missing    0.175510\n",
       "Mazda      0.251929\n",
       "Fiat       0.260870\n",
       "BMW        0.284906\n",
       "Name: y, dtype: float64"
      ]
     },
     "execution_count": 379,
     "metadata": {},
     "output_type": "execute_result"
    }
   ],
   "source": [
    "# let's order the labels according to the mean target value\n",
    "X_train_wy.groupby(X_train_wy['Rechecv_Companny_Missing_M3'])['y'].mean().sort_values()"
   ]
  },
  {
   "cell_type": "code",
   "execution_count": 146,
   "metadata": {},
   "outputs": [
    {
     "data": {
      "text/plain": [
       "Rechecv_Companny_imputed_M2\n",
       "Tesla    0.061688\n",
       "Ford     0.071021\n",
       "Mazda    0.248414\n",
       "Fiat     0.256270\n",
       "BMW      0.280000\n",
       "Name: y, dtype: float64"
      ]
     },
     "execution_count": 146,
     "metadata": {},
     "output_type": "execute_result"
    }
   ],
   "source": [
    "X_train_wy.groupby(X_train_wy['Rechecv_Companny_imputed_M2'])['y'].mean().sort_values()"
   ]
  },
  {
   "cell_type": "code",
   "execution_count": 380,
   "metadata": {},
   "outputs": [
    {
     "data": {
      "text/plain": [
       "{'BMW': 0.2849056603773585,\n",
       " 'Fiat': 0.2608695652173913,\n",
       " 'Ford': 0.06449864498644986,\n",
       " 'Mazda': 0.2519294377067255,\n",
       " 'Missing': 0.17551020408163265,\n",
       " 'Tesla': 0.06291390728476821}"
      ]
     },
     "execution_count": 380,
     "metadata": {},
     "output_type": "execute_result"
    }
   ],
   "source": [
    "# and now let's do the same but capturing the result in a dictionary\n",
    "ordered_labels_m3 = X_train_wy.groupby(['Rechecv_Companny_Missing_M3'])['y'].mean().to_dict()\n",
    "ordered_labels_m3"
   ]
  },
  {
   "cell_type": "code",
   "execution_count": 381,
   "metadata": {},
   "outputs": [
    {
     "data": {
      "text/plain": [
       "{'BMW': 0.28,\n",
       " 'Fiat': 0.256269592476489,\n",
       " 'Ford': 0.07102125453602903,\n",
       " 'Mazda': 0.24841437632135308,\n",
       " 'Tesla': 0.06168831168831169}"
      ]
     },
     "execution_count": 381,
     "metadata": {},
     "output_type": "execute_result"
    }
   ],
   "source": [
    "# and now let's do the same but capturing the result in a dictionary\n",
    "ordered_labels = X_train_wy.groupby(['Rechecv_Companny_imputed_M2'])['y'].mean().to_dict()\n",
    "ordered_labels"
   ]
  },
  {
   "cell_type": "code",
   "execution_count": 382,
   "metadata": {},
   "outputs": [],
   "source": [
    "# now, we replace the labels with the target means\n",
    "X_train['Rechecv_Companny_Missing_M3_en_mean'] = X_train_wy['Rechecv_Companny_Missing_M3'].map(ordered_labels_m3)\n",
    "X_test['Rechecv_Companny_Missing_M3_en_mean'] = X_test_wy['Rechecv_Companny_Missing_M3'].map(ordered_labels_m3)\n",
    "X_train['Rechecv_Companny_Missing_M2_en_mean'] = X_train_wy['Rechecv_Companny_imputed_M2'].map(ordered_labels)\n",
    "X_test['Rechecv_Companny_Missing_M2_en_mean'] = X_test_wy['Rechecv_Companny_imputed_M2'].map(ordered_labels)"
   ]
  },
  {
   "cell_type": "code",
   "execution_count": 383,
   "metadata": {},
   "outputs": [
    {
     "data": {
      "image/png": "[encoded data removed]",
      "text/plain": [
       "<Figure size 432x288 with 1 Axes>"
      ]
     },
     "metadata": {
      "needs_background": "light"
     },
     "output_type": "display_data"
    }
   ],
   "source": [
    "fig = X_train_wy.groupby(X_train['Rechecv_Companny_Missing_M2_en_mean'])['y'].mean().plot()"
   ]
  },
  {
   "cell_type": "code",
   "execution_count": 384,
   "metadata": {},
   "outputs": [
    {
     "data": {
      "text/html": [
       "<div>\n",
       "<style scoped>\n",
       "    .dataframe tbody tr th:only-of-type {\n",
       "        vertical-align: middle;\n",
       "    }\n",
       "\n",
       "    .dataframe tbody tr th {\n",
       "        vertical-align: top;\n",
       "    }\n",
       "\n",
       "    .dataframe thead th {\n",
       "        text-align: right;\n",
       "    }\n",
       "</style>\n",
       "<table border=\"1\" class=\"dataframe\">\n",
       "  <thead>\n",
       "    <tr style=\"text-align: right;\">\n",
       "      <th></th>\n",
       "      <th>Keypls</th>\n",
       "      <th>Rishuy_number</th>\n",
       "      <th>Rechecv_Companny</th>\n",
       "      <th>Manufacture_Year</th>\n",
       "      <th>Age</th>\n",
       "      <th>Gender</th>\n",
       "      <th>City</th>\n",
       "      <th>NumInP</th>\n",
       "      <th>Rechecv_Companny_imputed_M2</th>\n",
       "      <th>Rechecv_Companny_Missing_M3</th>\n",
       "      <th>Gender_imputed</th>\n",
       "      <th>Age_knn</th>\n",
       "      <th>Female</th>\n",
       "      <th>Male</th>\n",
       "      <th>City_orencod_mean</th>\n",
       "      <th>City_by_mean</th>\n",
       "      <th>City_prob</th>\n",
       "      <th>Rechecv_Companny_Missing_M3_en_mean</th>\n",
       "      <th>Rechecv_Companny_Missing_M2_en_mean</th>\n",
       "    </tr>\n",
       "  </thead>\n",
       "  <tbody>\n",
       "    <tr>\n",
       "      <th>3603</th>\n",
       "      <td>2378</td>\n",
       "      <td>73003878</td>\n",
       "      <td>BMW</td>\n",
       "      <td>2007.0</td>\n",
       "      <td>NaN</td>\n",
       "      <td>NaN</td>\n",
       "      <td>Missing</td>\n",
       "      <td>NaN</td>\n",
       "      <td>BMW</td>\n",
       "      <td>BMW</td>\n",
       "      <td>Female</td>\n",
       "      <td>63.0</td>\n",
       "      <td>0</td>\n",
       "      <td>0</td>\n",
       "      <td>3</td>\n",
       "      <td>0.190608</td>\n",
       "      <td>0.190608</td>\n",
       "      <td>0.284906</td>\n",
       "      <td>0.280000</td>\n",
       "    </tr>\n",
       "    <tr>\n",
       "      <th>3380</th>\n",
       "      <td>4939</td>\n",
       "      <td>73006439</td>\n",
       "      <td>BMW</td>\n",
       "      <td>2012.0</td>\n",
       "      <td>23.0</td>\n",
       "      <td>Male</td>\n",
       "      <td>Ashdod</td>\n",
       "      <td>2.0</td>\n",
       "      <td>BMW</td>\n",
       "      <td>BMW</td>\n",
       "      <td>Male</td>\n",
       "      <td>23.0</td>\n",
       "      <td>0</td>\n",
       "      <td>1</td>\n",
       "      <td>4</td>\n",
       "      <td>0.192580</td>\n",
       "      <td>0.192580</td>\n",
       "      <td>0.284906</td>\n",
       "      <td>0.280000</td>\n",
       "    </tr>\n",
       "    <tr>\n",
       "      <th>2394</th>\n",
       "      <td>2299</td>\n",
       "      <td>73003799</td>\n",
       "      <td>Ford</td>\n",
       "      <td>NaN</td>\n",
       "      <td>61.0</td>\n",
       "      <td>Female</td>\n",
       "      <td>Tel Aviv</td>\n",
       "      <td>2.0</td>\n",
       "      <td>Ford</td>\n",
       "      <td>Ford</td>\n",
       "      <td>Female</td>\n",
       "      <td>61.0</td>\n",
       "      <td>1</td>\n",
       "      <td>0</td>\n",
       "      <td>1</td>\n",
       "      <td>0.181403</td>\n",
       "      <td>0.181403</td>\n",
       "      <td>0.064499</td>\n",
       "      <td>0.071021</td>\n",
       "    </tr>\n",
       "  </tbody>\n",
       "</table>\n",
       "</div>"
      ],
      "text/plain": [
       "      Keypls  Rishuy_number Rechecv_Companny  Manufacture_Year   Age  Gender  \\\n",
       "3603    2378       73003878              BMW            2007.0   NaN     NaN   \n",
       "3380    4939       73006439              BMW            2012.0  23.0    Male   \n",
       "2394    2299       73003799             Ford               NaN  61.0  Female   \n",
       "\n",
       "          City  NumInP Rechecv_Companny_imputed_M2  \\\n",
       "3603   Missing     NaN                         BMW   \n",
       "3380    Ashdod     2.0                         BMW   \n",
       "2394  Tel Aviv     2.0                        Ford   \n",
       "\n",
       "     Rechecv_Companny_Missing_M3 Gender_imputed  Age_knn  Female  Male  \\\n",
       "3603                         BMW         Female     63.0       0     0   \n",
       "3380                         BMW           Male     23.0       0     1   \n",
       "2394                        Ford         Female     61.0       1     0   \n",
       "\n",
       "      City_orencod_mean  City_by_mean  City_prob  \\\n",
       "3603                  3      0.190608   0.190608   \n",
       "3380                  4      0.192580   0.192580   \n",
       "2394                  1      0.181403   0.181403   \n",
       "\n",
       "      Rechecv_Companny_Missing_M3_en_mean  Rechecv_Companny_Missing_M2_en_mean  \n",
       "3603                             0.284906                             0.280000  \n",
       "3380                             0.284906                             0.280000  \n",
       "2394                             0.064499                             0.071021  "
      ]
     },
     "execution_count": 384,
     "metadata": {},
     "output_type": "execute_result"
    }
   ],
   "source": [
    "X_train.sample(3)"
   ]
  },
  {
   "cell_type": "markdown",
   "metadata": {},
   "source": [
    "## Transformations "
   ]
  },
  {
   "cell_type": "code",
   "execution_count": 385,
   "metadata": {},
   "outputs": [
    {
     "data": {
      "image/png": "[encoded data removed]",
      "text/plain": [
       "<Figure size 720x720 with 16 Axes>"
      ]
     },
     "metadata": {
      "needs_background": "light"
     },
     "output_type": "display_data"
    }
   ],
   "source": [
    "# let's explore the distribution of the numerical variables\n",
    "X_train.hist(figsize=(10,10))\n",
    "plt.show()"
   ]
  },
  {
   "cell_type": "code",
   "execution_count": 386,
   "metadata": {},
   "outputs": [],
   "source": [
    "# plot the histograms to have a quick look at the variable distribution\n",
    "# histogram and Q-Q plots\n",
    "def diagnostic_plots(df, variable):\n",
    "# function to plot a histogram and a Q-Q plot\n",
    "# side by side, for a certain variable\n",
    "    plt.figure(figsize=(15,6))\n",
    "    plt.subplot(1, 2, 1)\n",
    "    df[variable].hist(bins=30)\n",
    "    plt.subplot(1, 2, 2)\n",
    "    stats.probplot(df[variable], dist=\"norm\", plot=plt)\n",
    "    plt.show()"
   ]
  },
  {
   "cell_type": "code",
   "execution_count": 387,
   "metadata": {},
   "outputs": [
    {
     "data": {
      "image/png": "[encoded data removed]",
      "text/plain": [
       "<Figure size 1080x432 with 2 Axes>"
      ]
     },
     "metadata": {
      "needs_background": "light"
     },
     "output_type": "display_data"
    }
   ],
   "source": [
    "diagnostic_plots(X_train, 'Age_knn')"
   ]
  },
  {
   "cell_type": "code",
   "execution_count": 388,
   "metadata": {},
   "outputs": [],
   "source": [
    "## method 1 -  Logarithmic transformation "
   ]
  },
  {
   "cell_type": "code",
   "execution_count": 390,
   "metadata": {},
   "outputs": [
    {
     "data": {
      "image/png": "[encoded data removed]",
      "text/plain": [
       "<Figure size 1080x432 with 2 Axes>"
      ]
     },
     "metadata": {
      "needs_background": "light"
     },
     "output_type": "display_data"
    }
   ],
   "source": [
    "X_train['Age_knn_log'] = np.log(X_train['Age_knn'])\n",
    "X_test['Age_knn_log'] = np.log(X_test['Age_knn'])\n",
    "\n",
    "diagnostic_plots(X_train, 'Age_knn_log')\n",
    "#diagnostic_plots(X_test, 'Age_knn_log')"
   ]
  },
  {
   "cell_type": "code",
   "execution_count": 391,
   "metadata": {},
   "outputs": [
    {
     "data": {
      "image/png": "[encoded data removed]",
      "text/plain": [
       "<Figure size 1080x432 with 2 Axes>"
      ]
     },
     "metadata": {
      "needs_background": "light"
     },
     "output_type": "display_data"
    }
   ],
   "source": [
    "## method 2 -  sqr transformation \n",
    "X_train['Age_knn_sqr'] = X_train['Age_knn']**(1/2)\n",
    "X_test['Age_knn_sqr'] = X_test['Age_knn']**(1/2)\n",
    "\n",
    "diagnostic_plots(X_train, 'Age_knn_sqr')"
   ]
  },
  {
   "cell_type": "code",
   "execution_count": null,
   "metadata": {},
   "outputs": [],
   "source": [
    "## Box-Cox transformation"
   ]
  },
  {
   "cell_type": "code",
   "execution_count": 392,
   "metadata": {},
   "outputs": [
    {
     "name": "stdout",
     "output_type": "stream",
     "text": [
      "Optimal :  8.472135811722177\n"
     ]
    },
    {
     "data": {
      "image/png": "[encoded data removed]",
      "text/plain": [
       "<Figure size 1080x432 with 2 Axes>"
      ]
     },
     "metadata": {
      "needs_background": "light"
     },
     "output_type": "display_data"
    }
   ],
   "source": [
    "X_train['Age_knn_boxcox'], param = stats.boxcox(X_train['Age_knn'])\n",
    "X_test['Age_knn_boxcox'], param = stats.boxcox(X_test['Age_knn'])\n",
    "print('Optimal : ', param)\n",
    "diagnostic_plots(X_train, 'Age_knn_boxcox')"
   ]
  },
  {
   "cell_type": "code",
   "execution_count": null,
   "metadata": {},
   "outputs": [],
   "source": [
    "#X_train.sample()"
   ]
  },
  {
   "cell_type": "markdown",
   "metadata": {},
   "source": [
    "## Discretisation:  "
   ]
  },
  {
   "cell_type": "code",
   "execution_count": 159,
   "metadata": {},
   "outputs": [],
   "source": [
    "# age - discretisation "
   ]
  },
  {
   "cell_type": "code",
   "execution_count": 395,
   "metadata": {},
   "outputs": [
    {
     "data": {
      "text/html": [
       "<div>\n",
       "<style scoped>\n",
       "    .dataframe tbody tr th:only-of-type {\n",
       "        vertical-align: middle;\n",
       "    }\n",
       "\n",
       "    .dataframe tbody tr th {\n",
       "        vertical-align: top;\n",
       "    }\n",
       "\n",
       "    .dataframe thead th {\n",
       "        text-align: right;\n",
       "    }\n",
       "</style>\n",
       "<table border=\"1\" class=\"dataframe\">\n",
       "  <thead>\n",
       "    <tr style=\"text-align: right;\">\n",
       "      <th></th>\n",
       "      <th>Age</th>\n",
       "      <th>Age</th>\n",
       "    </tr>\n",
       "  </thead>\n",
       "  <tbody>\n",
       "    <tr>\n",
       "      <th>0</th>\n",
       "      <td>(15.999, 21.0]</td>\n",
       "      <td>17.0</td>\n",
       "    </tr>\n",
       "    <tr>\n",
       "      <th>1</th>\n",
       "      <td>(57.0, 63.0]</td>\n",
       "      <td>60.0</td>\n",
       "    </tr>\n",
       "    <tr>\n",
       "      <th>2</th>\n",
       "      <td>(69.0, 75.0]</td>\n",
       "      <td>75.0</td>\n",
       "    </tr>\n",
       "    <tr>\n",
       "      <th>3</th>\n",
       "      <td>(21.0, 27.0]</td>\n",
       "      <td>27.0</td>\n",
       "    </tr>\n",
       "    <tr>\n",
       "      <th>4</th>\n",
       "      <td>(69.0, 75.0]</td>\n",
       "      <td>70.0</td>\n",
       "    </tr>\n",
       "    <tr>\n",
       "      <th>5</th>\n",
       "      <td>(63.0, 69.0]</td>\n",
       "      <td>69.0</td>\n",
       "    </tr>\n",
       "    <tr>\n",
       "      <th>6</th>\n",
       "      <td>(38.0, 45.0]</td>\n",
       "      <td>44.0</td>\n",
       "    </tr>\n",
       "    <tr>\n",
       "      <th>7</th>\n",
       "      <td>(27.0, 32.0]</td>\n",
       "      <td>29.0</td>\n",
       "    </tr>\n",
       "    <tr>\n",
       "      <th>8</th>\n",
       "      <td>(21.0, 27.0]</td>\n",
       "      <td>26.0</td>\n",
       "    </tr>\n",
       "    <tr>\n",
       "      <th>9</th>\n",
       "      <td>(69.0, 75.0]</td>\n",
       "      <td>72.0</td>\n",
       "    </tr>\n",
       "  </tbody>\n",
       "</table>\n",
       "</div>"
      ],
      "text/plain": [
       "              Age   Age\n",
       "0  (15.999, 21.0]  17.0\n",
       "1    (57.0, 63.0]  60.0\n",
       "2    (69.0, 75.0]  75.0\n",
       "3    (21.0, 27.0]  27.0\n",
       "4    (69.0, 75.0]  70.0\n",
       "5    (63.0, 69.0]  69.0\n",
       "6    (38.0, 45.0]  44.0\n",
       "7    (27.0, 32.0]  29.0\n",
       "8    (21.0, 27.0]  26.0\n",
       "9    (69.0, 75.0]  72.0"
      ]
     },
     "execution_count": 395,
     "metadata": {},
     "output_type": "execute_result"
    }
   ],
   "source": [
    "# let's use pandas qcut (quantile cut) ,let's create 10 bins.\n",
    "Age_disccretised, intervals = pd.qcut(X_train['Age'], 10, labels=None, retbins=True, precision=3,duplicates='raise')\n",
    "pd.concat([Age_disccretised, X_train['Age']], axis=1).head(10)"
   ]
  },
  {
   "cell_type": "code",
   "execution_count": 396,
   "metadata": {},
   "outputs": [
    {
     "data": {
      "text/plain": [
       "array([16., 21., 27., 32., 38., 45., 51., 57., 63., 69., 75.])"
      ]
     },
     "execution_count": 396,
     "metadata": {},
     "output_type": "execute_result"
    }
   ],
   "source": [
    "intervals"
   ]
  },
  {
   "cell_type": "code",
   "execution_count": 397,
   "metadata": {},
   "outputs": [
    {
     "data": {
      "text/plain": [
       "(15.999, 21.0]    593\n",
       "(21.0, 27.0]      599\n",
       "(27.0, 32.0]      487\n",
       "(32.0, 38.0]      567\n",
       "(38.0, 45.0]      608\n",
       "(45.0, 51.0]      533\n",
       "(51.0, 57.0]      569\n",
       "(57.0, 63.0]      546\n",
       "(63.0, 69.0]      549\n",
       "(69.0, 75.0]      542\n",
       "Name: Age, dtype: int64"
      ]
     },
     "execution_count": 397,
     "metadata": {},
     "output_type": "execute_result"
    }
   ],
   "source": [
    "# we will get roughly the same number of passengers per interval\n",
    "Age_disccretised.value_counts().sort_index()"
   ]
  },
  {
   "cell_type": "code",
   "execution_count": 398,
   "metadata": {},
   "outputs": [
    {
     "data": {
      "text/plain": [
       "['Q1', 'Q2', 'Q3', 'Q4', 'Q5', 'Q6', 'Q7', 'Q8', 'Q9', 'Q10']"
      ]
     },
     "execution_count": 398,
     "metadata": {},
     "output_type": "execute_result"
    }
   ],
   "source": [
    "# we can also add labels instead of having the interval boundaries, to the bins, as follows:\n",
    "labels = ['Q'+str(i) for i in range(1,11)]\n",
    "labels"
   ]
  },
  {
   "cell_type": "code",
   "execution_count": 399,
   "metadata": {},
   "outputs": [
    {
     "data": {
      "text/html": [
       "<div>\n",
       "<style scoped>\n",
       "    .dataframe tbody tr th:only-of-type {\n",
       "        vertical-align: middle;\n",
       "    }\n",
       "\n",
       "    .dataframe tbody tr th {\n",
       "        vertical-align: top;\n",
       "    }\n",
       "\n",
       "    .dataframe thead th {\n",
       "        text-align: right;\n",
       "    }\n",
       "</style>\n",
       "<table border=\"1\" class=\"dataframe\">\n",
       "  <thead>\n",
       "    <tr style=\"text-align: right;\">\n",
       "      <th></th>\n",
       "      <th>Keypls</th>\n",
       "      <th>Rishuy_number</th>\n",
       "      <th>Rechecv_Companny</th>\n",
       "      <th>Manufacture_Year</th>\n",
       "      <th>Age</th>\n",
       "      <th>Gender</th>\n",
       "      <th>City</th>\n",
       "      <th>NumInP</th>\n",
       "      <th>Rechecv_Companny_imputed_M2</th>\n",
       "      <th>Rechecv_Companny_Missing_M3</th>\n",
       "      <th>...</th>\n",
       "      <th>Male</th>\n",
       "      <th>City_orencod_mean</th>\n",
       "      <th>City_by_mean</th>\n",
       "      <th>City_prob</th>\n",
       "      <th>Rechecv_Companny_Missing_M3_en_mean</th>\n",
       "      <th>Rechecv_Companny_Missing_M2_en_mean</th>\n",
       "      <th>Age_knn_log</th>\n",
       "      <th>Age_knn_sqr</th>\n",
       "      <th>Age_knn_boxcox</th>\n",
       "      <th>Age_disc_label</th>\n",
       "    </tr>\n",
       "  </thead>\n",
       "  <tbody>\n",
       "    <tr>\n",
       "      <th>0</th>\n",
       "      <td>1734</td>\n",
       "      <td>73003234</td>\n",
       "      <td>Ford</td>\n",
       "      <td>2003.0</td>\n",
       "      <td>17.0</td>\n",
       "      <td>Male</td>\n",
       "      <td>Dimona</td>\n",
       "      <td>3.0</td>\n",
       "      <td>Ford</td>\n",
       "      <td>Ford</td>\n",
       "      <td>...</td>\n",
       "      <td>1</td>\n",
       "      <td>6</td>\n",
       "      <td>0.218085</td>\n",
       "      <td>0.218085</td>\n",
       "      <td>0.064499</td>\n",
       "      <td>0.071021</td>\n",
       "      <td>2.833213</td>\n",
       "      <td>4.123106</td>\n",
       "      <td>8.977393</td>\n",
       "      <td>Q1</td>\n",
       "    </tr>\n",
       "    <tr>\n",
       "      <th>1</th>\n",
       "      <td>2017</td>\n",
       "      <td>73003517</td>\n",
       "      <td>Mazda</td>\n",
       "      <td>2011.0</td>\n",
       "      <td>60.0</td>\n",
       "      <td>Male</td>\n",
       "      <td>Tira</td>\n",
       "      <td>5.0</td>\n",
       "      <td>Mazda</td>\n",
       "      <td>Mazda</td>\n",
       "      <td>...</td>\n",
       "      <td>1</td>\n",
       "      <td>2</td>\n",
       "      <td>0.181818</td>\n",
       "      <td>0.181818</td>\n",
       "      <td>0.251929</td>\n",
       "      <td>0.248414</td>\n",
       "      <td>4.094345</td>\n",
       "      <td>7.745967</td>\n",
       "      <td>23.773532</td>\n",
       "      <td>Q8</td>\n",
       "    </tr>\n",
       "    <tr>\n",
       "      <th>2</th>\n",
       "      <td>2478</td>\n",
       "      <td>73003978</td>\n",
       "      <td>Mazda</td>\n",
       "      <td>2013.0</td>\n",
       "      <td>75.0</td>\n",
       "      <td>Female</td>\n",
       "      <td>Tel Aviv</td>\n",
       "      <td>2.0</td>\n",
       "      <td>Mazda</td>\n",
       "      <td>Mazda</td>\n",
       "      <td>...</td>\n",
       "      <td>0</td>\n",
       "      <td>1</td>\n",
       "      <td>0.181403</td>\n",
       "      <td>0.181403</td>\n",
       "      <td>0.251929</td>\n",
       "      <td>0.248414</td>\n",
       "      <td>4.317488</td>\n",
       "      <td>8.660254</td>\n",
       "      <td>28.043761</td>\n",
       "      <td>Q10</td>\n",
       "    </tr>\n",
       "    <tr>\n",
       "      <th>3</th>\n",
       "      <td>2170</td>\n",
       "      <td>73003670</td>\n",
       "      <td>Mazda</td>\n",
       "      <td>2010.0</td>\n",
       "      <td>27.0</td>\n",
       "      <td>Male</td>\n",
       "      <td>Tel Aviv</td>\n",
       "      <td>3.0</td>\n",
       "      <td>Mazda</td>\n",
       "      <td>Mazda</td>\n",
       "      <td>...</td>\n",
       "      <td>1</td>\n",
       "      <td>1</td>\n",
       "      <td>0.181403</td>\n",
       "      <td>0.181403</td>\n",
       "      <td>0.251929</td>\n",
       "      <td>0.248414</td>\n",
       "      <td>3.295837</td>\n",
       "      <td>5.196152</td>\n",
       "      <td>12.965860</td>\n",
       "      <td>Q2</td>\n",
       "    </tr>\n",
       "    <tr>\n",
       "      <th>4</th>\n",
       "      <td>3748</td>\n",
       "      <td>73005248</td>\n",
       "      <td>Fiat</td>\n",
       "      <td>2013.0</td>\n",
       "      <td>70.0</td>\n",
       "      <td>Female</td>\n",
       "      <td>Haifa</td>\n",
       "      <td>3.0</td>\n",
       "      <td>Fiat</td>\n",
       "      <td>Fiat</td>\n",
       "      <td>...</td>\n",
       "      <td>0</td>\n",
       "      <td>5</td>\n",
       "      <td>0.194690</td>\n",
       "      <td>0.194690</td>\n",
       "      <td>0.260870</td>\n",
       "      <td>0.256270</td>\n",
       "      <td>4.248495</td>\n",
       "      <td>8.366600</td>\n",
       "      <td>26.651397</td>\n",
       "      <td>Q10</td>\n",
       "    </tr>\n",
       "    <tr>\n",
       "      <th>...</th>\n",
       "      <td>...</td>\n",
       "      <td>...</td>\n",
       "      <td>...</td>\n",
       "      <td>...</td>\n",
       "      <td>...</td>\n",
       "      <td>...</td>\n",
       "      <td>...</td>\n",
       "      <td>...</td>\n",
       "      <td>...</td>\n",
       "      <td>...</td>\n",
       "      <td>...</td>\n",
       "      <td>...</td>\n",
       "      <td>...</td>\n",
       "      <td>...</td>\n",
       "      <td>...</td>\n",
       "      <td>...</td>\n",
       "      <td>...</td>\n",
       "      <td>...</td>\n",
       "      <td>...</td>\n",
       "      <td>...</td>\n",
       "      <td>...</td>\n",
       "    </tr>\n",
       "    <tr>\n",
       "      <th>5950</th>\n",
       "      <td>3040</td>\n",
       "      <td>73004540</td>\n",
       "      <td>Fiat</td>\n",
       "      <td>2012.0</td>\n",
       "      <td>44.0</td>\n",
       "      <td>Female</td>\n",
       "      <td>Tel Aviv</td>\n",
       "      <td>2.0</td>\n",
       "      <td>Fiat</td>\n",
       "      <td>Fiat</td>\n",
       "      <td>...</td>\n",
       "      <td>0</td>\n",
       "      <td>1</td>\n",
       "      <td>0.181403</td>\n",
       "      <td>0.181403</td>\n",
       "      <td>0.260870</td>\n",
       "      <td>0.256270</td>\n",
       "      <td>3.784190</td>\n",
       "      <td>6.633250</td>\n",
       "      <td>18.846129</td>\n",
       "      <td>Q5</td>\n",
       "    </tr>\n",
       "    <tr>\n",
       "      <th>5951</th>\n",
       "      <td>4709</td>\n",
       "      <td>73006209</td>\n",
       "      <td>Mazda</td>\n",
       "      <td>2011.0</td>\n",
       "      <td>56.0</td>\n",
       "      <td>Female</td>\n",
       "      <td>Jerusalem</td>\n",
       "      <td>2.0</td>\n",
       "      <td>Mazda</td>\n",
       "      <td>Mazda</td>\n",
       "      <td>...</td>\n",
       "      <td>0</td>\n",
       "      <td>0</td>\n",
       "      <td>0.178230</td>\n",
       "      <td>0.178230</td>\n",
       "      <td>0.251929</td>\n",
       "      <td>0.248414</td>\n",
       "      <td>4.025352</td>\n",
       "      <td>7.483315</td>\n",
       "      <td>22.582928</td>\n",
       "      <td>Q7</td>\n",
       "    </tr>\n",
       "    <tr>\n",
       "      <th>5952</th>\n",
       "      <td>3269</td>\n",
       "      <td>73004769</td>\n",
       "      <td>BMW</td>\n",
       "      <td>2009.0</td>\n",
       "      <td>71.0</td>\n",
       "      <td>Female</td>\n",
       "      <td>Tel Aviv</td>\n",
       "      <td>3.0</td>\n",
       "      <td>BMW</td>\n",
       "      <td>BMW</td>\n",
       "      <td>...</td>\n",
       "      <td>0</td>\n",
       "      <td>1</td>\n",
       "      <td>0.181403</td>\n",
       "      <td>0.181403</td>\n",
       "      <td>0.284906</td>\n",
       "      <td>0.280000</td>\n",
       "      <td>4.262680</td>\n",
       "      <td>8.426150</td>\n",
       "      <td>26.932184</td>\n",
       "      <td>Q10</td>\n",
       "    </tr>\n",
       "    <tr>\n",
       "      <th>5953</th>\n",
       "      <td>2494</td>\n",
       "      <td>73003994</td>\n",
       "      <td>NaN</td>\n",
       "      <td>2016.0</td>\n",
       "      <td>50.0</td>\n",
       "      <td>Female</td>\n",
       "      <td>Tira</td>\n",
       "      <td>6.0</td>\n",
       "      <td>Fiat</td>\n",
       "      <td>Missing</td>\n",
       "      <td>...</td>\n",
       "      <td>0</td>\n",
       "      <td>2</td>\n",
       "      <td>0.181818</td>\n",
       "      <td>0.181818</td>\n",
       "      <td>0.175510</td>\n",
       "      <td>0.256270</td>\n",
       "      <td>3.912023</td>\n",
       "      <td>7.071068</td>\n",
       "      <td>20.748077</td>\n",
       "      <td>Q6</td>\n",
       "    </tr>\n",
       "    <tr>\n",
       "      <th>5954</th>\n",
       "      <td>2248</td>\n",
       "      <td>73003748</td>\n",
       "      <td>Tesla</td>\n",
       "      <td>2015.0</td>\n",
       "      <td>56.0</td>\n",
       "      <td>Male</td>\n",
       "      <td>Haifa</td>\n",
       "      <td>2.0</td>\n",
       "      <td>Tesla</td>\n",
       "      <td>Tesla</td>\n",
       "      <td>...</td>\n",
       "      <td>1</td>\n",
       "      <td>5</td>\n",
       "      <td>0.194690</td>\n",
       "      <td>0.194690</td>\n",
       "      <td>0.062914</td>\n",
       "      <td>0.061688</td>\n",
       "      <td>4.025352</td>\n",
       "      <td>7.483315</td>\n",
       "      <td>22.582928</td>\n",
       "      <td>Q7</td>\n",
       "    </tr>\n",
       "  </tbody>\n",
       "</table>\n",
       "<p>5955 rows × 23 columns</p>\n",
       "</div>"
      ],
      "text/plain": [
       "      Keypls  Rishuy_number Rechecv_Companny  Manufacture_Year   Age  Gender  \\\n",
       "0       1734       73003234             Ford            2003.0  17.0    Male   \n",
       "1       2017       73003517            Mazda            2011.0  60.0    Male   \n",
       "2       2478       73003978            Mazda            2013.0  75.0  Female   \n",
       "3       2170       73003670            Mazda            2010.0  27.0    Male   \n",
       "4       3748       73005248             Fiat            2013.0  70.0  Female   \n",
       "...      ...            ...              ...               ...   ...     ...   \n",
       "5950    3040       73004540             Fiat            2012.0  44.0  Female   \n",
       "5951    4709       73006209            Mazda            2011.0  56.0  Female   \n",
       "5952    3269       73004769              BMW            2009.0  71.0  Female   \n",
       "5953    2494       73003994              NaN            2016.0  50.0  Female   \n",
       "5954    2248       73003748            Tesla            2015.0  56.0    Male   \n",
       "\n",
       "           City  NumInP Rechecv_Companny_imputed_M2  \\\n",
       "0        Dimona     3.0                        Ford   \n",
       "1          Tira     5.0                       Mazda   \n",
       "2      Tel Aviv     2.0                       Mazda   \n",
       "3      Tel Aviv     3.0                       Mazda   \n",
       "4         Haifa     3.0                        Fiat   \n",
       "...         ...     ...                         ...   \n",
       "5950   Tel Aviv     2.0                        Fiat   \n",
       "5951  Jerusalem     2.0                       Mazda   \n",
       "5952   Tel Aviv     3.0                         BMW   \n",
       "5953       Tira     6.0                        Fiat   \n",
       "5954      Haifa     2.0                       Tesla   \n",
       "\n",
       "     Rechecv_Companny_Missing_M3  ... Male  City_orencod_mean  City_by_mean  \\\n",
       "0                           Ford  ...    1                  6      0.218085   \n",
       "1                          Mazda  ...    1                  2      0.181818   \n",
       "2                          Mazda  ...    0                  1      0.181403   \n",
       "3                          Mazda  ...    1                  1      0.181403   \n",
       "4                           Fiat  ...    0                  5      0.194690   \n",
       "...                          ...  ...  ...                ...           ...   \n",
       "5950                        Fiat  ...    0                  1      0.181403   \n",
       "5951                       Mazda  ...    0                  0      0.178230   \n",
       "5952                         BMW  ...    0                  1      0.181403   \n",
       "5953                     Missing  ...    0                  2      0.181818   \n",
       "5954                       Tesla  ...    1                  5      0.194690   \n",
       "\n",
       "      City_prob  Rechecv_Companny_Missing_M3_en_mean  \\\n",
       "0      0.218085                             0.064499   \n",
       "1      0.181818                             0.251929   \n",
       "2      0.181403                             0.251929   \n",
       "3      0.181403                             0.251929   \n",
       "4      0.194690                             0.260870   \n",
       "...         ...                                  ...   \n",
       "5950   0.181403                             0.260870   \n",
       "5951   0.178230                             0.251929   \n",
       "5952   0.181403                             0.284906   \n",
       "5953   0.181818                             0.175510   \n",
       "5954   0.194690                             0.062914   \n",
       "\n",
       "      Rechecv_Companny_Missing_M2_en_mean  Age_knn_log  Age_knn_sqr  \\\n",
       "0                                0.071021     2.833213     4.123106   \n",
       "1                                0.248414     4.094345     7.745967   \n",
       "2                                0.248414     4.317488     8.660254   \n",
       "3                                0.248414     3.295837     5.196152   \n",
       "4                                0.256270     4.248495     8.366600   \n",
       "...                                   ...          ...          ...   \n",
       "5950                             0.256270     3.784190     6.633250   \n",
       "5951                             0.248414     4.025352     7.483315   \n",
       "5952                             0.280000     4.262680     8.426150   \n",
       "5953                             0.256270     3.912023     7.071068   \n",
       "5954                             0.061688     4.025352     7.483315   \n",
       "\n",
       "      Age_knn_boxcox  Age_disc_label  \n",
       "0           8.977393              Q1  \n",
       "1          23.773532              Q8  \n",
       "2          28.043761             Q10  \n",
       "3          12.965860              Q2  \n",
       "4          26.651397             Q10  \n",
       "...              ...             ...  \n",
       "5950       18.846129              Q5  \n",
       "5951       22.582928              Q7  \n",
       "5952       26.932184             Q10  \n",
       "5953       20.748077              Q6  \n",
       "5954       22.582928              Q7  \n",
       "\n",
       "[5955 rows x 23 columns]"
      ]
     },
     "execution_count": 399,
     "metadata": {},
     "output_type": "execute_result"
    }
   ],
   "source": [
    "X_train['Age_disc_label'] , intervals = pd.qcut(X_train['Age'], 10, labels=labels ,retbins=True ,precision=3, duplicates='raise')\n",
    "X_train"
   ]
  },
  {
   "cell_type": "code",
   "execution_count": 400,
   "metadata": {},
   "outputs": [
    {
     "data": {
      "text/html": [
       "<div>\n",
       "<style scoped>\n",
       "    .dataframe tbody tr th:only-of-type {\n",
       "        vertical-align: middle;\n",
       "    }\n",
       "\n",
       "    .dataframe tbody tr th {\n",
       "        vertical-align: top;\n",
       "    }\n",
       "\n",
       "    .dataframe thead th {\n",
       "        text-align: right;\n",
       "    }\n",
       "</style>\n",
       "<table border=\"1\" class=\"dataframe\">\n",
       "  <thead>\n",
       "    <tr style=\"text-align: right;\">\n",
       "      <th></th>\n",
       "      <th>Keypls</th>\n",
       "      <th>Rishuy_number</th>\n",
       "      <th>Rechecv_Companny</th>\n",
       "      <th>Manufacture_Year</th>\n",
       "      <th>Age</th>\n",
       "      <th>Gender</th>\n",
       "      <th>City</th>\n",
       "      <th>NumInP</th>\n",
       "      <th>Rechecv_Companny_imputed_M2</th>\n",
       "      <th>Rechecv_Companny_Missing_M3</th>\n",
       "      <th>...</th>\n",
       "      <th>Male</th>\n",
       "      <th>City_orencod_mean</th>\n",
       "      <th>City_by_mean</th>\n",
       "      <th>City_prob</th>\n",
       "      <th>Rechecv_Companny_Missing_M3_en_mean</th>\n",
       "      <th>Rechecv_Companny_Missing_M2_en_mean</th>\n",
       "      <th>Age_knn_log</th>\n",
       "      <th>Age_knn_sqr</th>\n",
       "      <th>Age_knn_boxcox</th>\n",
       "      <th>Age_disc_label</th>\n",
       "    </tr>\n",
       "  </thead>\n",
       "  <tbody>\n",
       "    <tr>\n",
       "      <th>0</th>\n",
       "      <td>4248.0</td>\n",
       "      <td>73005748.0</td>\n",
       "      <td>Ford</td>\n",
       "      <td>2000.0</td>\n",
       "      <td>72.0</td>\n",
       "      <td>Male</td>\n",
       "      <td>Tel Aviv</td>\n",
       "      <td>2.0</td>\n",
       "      <td>Ford</td>\n",
       "      <td>Ford</td>\n",
       "      <td>...</td>\n",
       "      <td>1</td>\n",
       "      <td>1.0</td>\n",
       "      <td>0.181403</td>\n",
       "      <td>0.181403</td>\n",
       "      <td>0.064499</td>\n",
       "      <td>0.071021</td>\n",
       "      <td>4.276666</td>\n",
       "      <td>8.485281</td>\n",
       "      <td>6.420669e+14</td>\n",
       "      <td>Q10</td>\n",
       "    </tr>\n",
       "    <tr>\n",
       "      <th>1</th>\n",
       "      <td>1386.0</td>\n",
       "      <td>73002886.0</td>\n",
       "      <td>Mazda</td>\n",
       "      <td>2012.0</td>\n",
       "      <td>54.0</td>\n",
       "      <td>Female</td>\n",
       "      <td>Jerusalem</td>\n",
       "      <td>6.0</td>\n",
       "      <td>Mazda</td>\n",
       "      <td>Mazda</td>\n",
       "      <td>...</td>\n",
       "      <td>1</td>\n",
       "      <td>0.0</td>\n",
       "      <td>0.178230</td>\n",
       "      <td>0.178230</td>\n",
       "      <td>0.251929</td>\n",
       "      <td>0.248414</td>\n",
       "      <td>3.988984</td>\n",
       "      <td>7.348469</td>\n",
       "      <td>5.611543e+13</td>\n",
       "      <td>Q7</td>\n",
       "    </tr>\n",
       "    <tr>\n",
       "      <th>2</th>\n",
       "      <td>4345.0</td>\n",
       "      <td>73005845.0</td>\n",
       "      <td>Mazda</td>\n",
       "      <td>2016.0</td>\n",
       "      <td>69.0</td>\n",
       "      <td>Male</td>\n",
       "      <td>Tira</td>\n",
       "      <td>1.0</td>\n",
       "      <td>Mazda</td>\n",
       "      <td>Mazda</td>\n",
       "      <td>...</td>\n",
       "      <td>0</td>\n",
       "      <td>2.0</td>\n",
       "      <td>0.181818</td>\n",
       "      <td>0.181818</td>\n",
       "      <td>0.251929</td>\n",
       "      <td>0.248414</td>\n",
       "      <td>4.234107</td>\n",
       "      <td>8.306624</td>\n",
       "      <td>4.476992e+14</td>\n",
       "      <td>Q9</td>\n",
       "    </tr>\n",
       "    <tr>\n",
       "      <th>3</th>\n",
       "      <td>1231.0</td>\n",
       "      <td>73002731.0</td>\n",
       "      <td>BMW</td>\n",
       "      <td>2013.0</td>\n",
       "      <td>66.0</td>\n",
       "      <td>Male</td>\n",
       "      <td>Tel Aviv</td>\n",
       "      <td>2.0</td>\n",
       "      <td>BMW</td>\n",
       "      <td>BMW</td>\n",
       "      <td>...</td>\n",
       "      <td>1</td>\n",
       "      <td>1.0</td>\n",
       "      <td>0.181403</td>\n",
       "      <td>0.181403</td>\n",
       "      <td>0.284906</td>\n",
       "      <td>0.280000</td>\n",
       "      <td>4.189655</td>\n",
       "      <td>8.124038</td>\n",
       "      <td>3.072065e+14</td>\n",
       "      <td>Q9</td>\n",
       "    </tr>\n",
       "    <tr>\n",
       "      <th>4</th>\n",
       "      <td>4534.0</td>\n",
       "      <td>73006034.0</td>\n",
       "      <td>Ford</td>\n",
       "      <td>2004.0</td>\n",
       "      <td>63.0</td>\n",
       "      <td>Male</td>\n",
       "      <td>Haifa</td>\n",
       "      <td>2.0</td>\n",
       "      <td>Ford</td>\n",
       "      <td>Ford</td>\n",
       "      <td>...</td>\n",
       "      <td>0</td>\n",
       "      <td>5.0</td>\n",
       "      <td>0.194690</td>\n",
       "      <td>0.194690</td>\n",
       "      <td>0.064499</td>\n",
       "      <td>0.071021</td>\n",
       "      <td>4.143135</td>\n",
       "      <td>7.937254</td>\n",
       "      <td>2.071403e+14</td>\n",
       "      <td>Q8</td>\n",
       "    </tr>\n",
       "    <tr>\n",
       "      <th>5</th>\n",
       "      <td>2526.0</td>\n",
       "      <td>73004026.0</td>\n",
       "      <td>Fiat</td>\n",
       "      <td>2016.0</td>\n",
       "      <td>41.0</td>\n",
       "      <td>Male</td>\n",
       "      <td>Haifa</td>\n",
       "      <td>3.0</td>\n",
       "      <td>Fiat</td>\n",
       "      <td>Fiat</td>\n",
       "      <td>...</td>\n",
       "      <td>1</td>\n",
       "      <td>5.0</td>\n",
       "      <td>0.194690</td>\n",
       "      <td>0.194690</td>\n",
       "      <td>0.260870</td>\n",
       "      <td>0.256270</td>\n",
       "      <td>3.713572</td>\n",
       "      <td>6.403124</td>\n",
       "      <td>5.441654e+12</td>\n",
       "      <td>Q5</td>\n",
       "    </tr>\n",
       "    <tr>\n",
       "      <th>6</th>\n",
       "      <td>4834.0</td>\n",
       "      <td>73006334.0</td>\n",
       "      <td>Mazda</td>\n",
       "      <td>2006.0</td>\n",
       "      <td>45.0</td>\n",
       "      <td>Female</td>\n",
       "      <td>Ashdod</td>\n",
       "      <td>1.0</td>\n",
       "      <td>Mazda</td>\n",
       "      <td>Mazda</td>\n",
       "      <td>...</td>\n",
       "      <td>0</td>\n",
       "      <td>4.0</td>\n",
       "      <td>0.192580</td>\n",
       "      <td>0.192580</td>\n",
       "      <td>0.251929</td>\n",
       "      <td>0.248414</td>\n",
       "      <td>3.806662</td>\n",
       "      <td>6.708204</td>\n",
       "      <td>1.197424e+13</td>\n",
       "      <td>Q5</td>\n",
       "    </tr>\n",
       "    <tr>\n",
       "      <th>7</th>\n",
       "      <td>3026.0</td>\n",
       "      <td>73004526.0</td>\n",
       "      <td>NaN</td>\n",
       "      <td>2000.0</td>\n",
       "      <td>26.0</td>\n",
       "      <td>Female</td>\n",
       "      <td>Tel Aviv</td>\n",
       "      <td>1.0</td>\n",
       "      <td>Ford</td>\n",
       "      <td>Missing</td>\n",
       "      <td>...</td>\n",
       "      <td>0</td>\n",
       "      <td>1.0</td>\n",
       "      <td>0.181403</td>\n",
       "      <td>0.181403</td>\n",
       "      <td>0.175510</td>\n",
       "      <td>0.071021</td>\n",
       "      <td>3.258097</td>\n",
       "      <td>5.099020</td>\n",
       "      <td>1.147766e+11</td>\n",
       "      <td>Q2</td>\n",
       "    </tr>\n",
       "    <tr>\n",
       "      <th>8</th>\n",
       "      <td>3409.0</td>\n",
       "      <td>73004909.0</td>\n",
       "      <td>Fiat</td>\n",
       "      <td>2016.0</td>\n",
       "      <td>20.0</td>\n",
       "      <td>Male</td>\n",
       "      <td>Jerusalem</td>\n",
       "      <td>3.0</td>\n",
       "      <td>Fiat</td>\n",
       "      <td>Fiat</td>\n",
       "      <td>...</td>\n",
       "      <td>0</td>\n",
       "      <td>0.0</td>\n",
       "      <td>0.178230</td>\n",
       "      <td>0.178230</td>\n",
       "      <td>0.260870</td>\n",
       "      <td>0.256270</td>\n",
       "      <td>2.995732</td>\n",
       "      <td>4.472136</td>\n",
       "      <td>1.243111e+10</td>\n",
       "      <td>Q1</td>\n",
       "    </tr>\n",
       "    <tr>\n",
       "      <th>9</th>\n",
       "      <td>4265.0</td>\n",
       "      <td>73005765.0</td>\n",
       "      <td>Fiat</td>\n",
       "      <td>2004.0</td>\n",
       "      <td>34.0</td>\n",
       "      <td>Female</td>\n",
       "      <td>Tira</td>\n",
       "      <td>1.0</td>\n",
       "      <td>Fiat</td>\n",
       "      <td>Fiat</td>\n",
       "      <td>...</td>\n",
       "      <td>1</td>\n",
       "      <td>2.0</td>\n",
       "      <td>0.181818</td>\n",
       "      <td>0.181818</td>\n",
       "      <td>0.260870</td>\n",
       "      <td>0.256270</td>\n",
       "      <td>3.526361</td>\n",
       "      <td>5.830952</td>\n",
       "      <td>1.114049e+12</td>\n",
       "      <td>Q4</td>\n",
       "    </tr>\n",
       "  </tbody>\n",
       "</table>\n",
       "<p>10 rows × 23 columns</p>\n",
       "</div>"
      ],
      "text/plain": [
       "   Keypls  Rishuy_number Rechecv_Companny  Manufacture_Year   Age  Gender  \\\n",
       "0  4248.0     73005748.0             Ford            2000.0  72.0    Male   \n",
       "1  1386.0     73002886.0            Mazda            2012.0  54.0  Female   \n",
       "2  4345.0     73005845.0            Mazda            2016.0  69.0    Male   \n",
       "3  1231.0     73002731.0              BMW            2013.0  66.0    Male   \n",
       "4  4534.0     73006034.0             Ford            2004.0  63.0    Male   \n",
       "5  2526.0     73004026.0             Fiat            2016.0  41.0    Male   \n",
       "6  4834.0     73006334.0            Mazda            2006.0  45.0  Female   \n",
       "7  3026.0     73004526.0              NaN            2000.0  26.0  Female   \n",
       "8  3409.0     73004909.0             Fiat            2016.0  20.0    Male   \n",
       "9  4265.0     73005765.0             Fiat            2004.0  34.0  Female   \n",
       "\n",
       "        City  NumInP Rechecv_Companny_imputed_M2 Rechecv_Companny_Missing_M3  \\\n",
       "0   Tel Aviv     2.0                        Ford                        Ford   \n",
       "1  Jerusalem     6.0                       Mazda                       Mazda   \n",
       "2       Tira     1.0                       Mazda                       Mazda   \n",
       "3   Tel Aviv     2.0                         BMW                         BMW   \n",
       "4      Haifa     2.0                        Ford                        Ford   \n",
       "5      Haifa     3.0                        Fiat                        Fiat   \n",
       "6     Ashdod     1.0                       Mazda                       Mazda   \n",
       "7   Tel Aviv     1.0                        Ford                     Missing   \n",
       "8  Jerusalem     3.0                        Fiat                        Fiat   \n",
       "9       Tira     1.0                        Fiat                        Fiat   \n",
       "\n",
       "   ... Male  City_orencod_mean  City_by_mean  City_prob  \\\n",
       "0  ...    1                1.0      0.181403   0.181403   \n",
       "1  ...    1                0.0      0.178230   0.178230   \n",
       "2  ...    0                2.0      0.181818   0.181818   \n",
       "3  ...    1                1.0      0.181403   0.181403   \n",
       "4  ...    0                5.0      0.194690   0.194690   \n",
       "5  ...    1                5.0      0.194690   0.194690   \n",
       "6  ...    0                4.0      0.192580   0.192580   \n",
       "7  ...    0                1.0      0.181403   0.181403   \n",
       "8  ...    0                0.0      0.178230   0.178230   \n",
       "9  ...    1                2.0      0.181818   0.181818   \n",
       "\n",
       "   Rechecv_Companny_Missing_M3_en_mean  Rechecv_Companny_Missing_M2_en_mean  \\\n",
       "0                             0.064499                             0.071021   \n",
       "1                             0.251929                             0.248414   \n",
       "2                             0.251929                             0.248414   \n",
       "3                             0.284906                             0.280000   \n",
       "4                             0.064499                             0.071021   \n",
       "5                             0.260870                             0.256270   \n",
       "6                             0.251929                             0.248414   \n",
       "7                             0.175510                             0.071021   \n",
       "8                             0.260870                             0.256270   \n",
       "9                             0.260870                             0.256270   \n",
       "\n",
       "   Age_knn_log  Age_knn_sqr  Age_knn_boxcox  Age_disc_label  \n",
       "0     4.276666     8.485281    6.420669e+14             Q10  \n",
       "1     3.988984     7.348469    5.611543e+13              Q7  \n",
       "2     4.234107     8.306624    4.476992e+14              Q9  \n",
       "3     4.189655     8.124038    3.072065e+14              Q9  \n",
       "4     4.143135     7.937254    2.071403e+14              Q8  \n",
       "5     3.713572     6.403124    5.441654e+12              Q5  \n",
       "6     3.806662     6.708204    1.197424e+13              Q5  \n",
       "7     3.258097     5.099020    1.147766e+11              Q2  \n",
       "8     2.995732     4.472136    1.243111e+10              Q1  \n",
       "9     3.526361     5.830952    1.114049e+12              Q4  \n",
       "\n",
       "[10 rows x 23 columns]"
      ]
     },
     "execution_count": 400,
     "metadata": {},
     "output_type": "execute_result"
    }
   ],
   "source": [
    "X_test['Age_disc_label'] = pd.cut(x = X_test['Age'], bins=intervals,labels=labels)\n",
    "X_test.head(10)"
   ]
  },
  {
   "cell_type": "code",
   "execution_count": 401,
   "metadata": {},
   "outputs": [],
   "source": [
    "# untiil here we craete the bins for test and train sets and now all we need is to encode the values in the bins to numbers "
   ]
  },
  {
   "cell_type": "code",
   "execution_count": 403,
   "metadata": {},
   "outputs": [
    {
     "data": {
      "text/plain": [
       "<AxesSubplot:xlabel='Age_disc_label'>"
      ]
     },
     "execution_count": 403,
     "metadata": {},
     "output_type": "execute_result"
    },
    {
     "data": {
      "image/png": "[encoded data removed]",
      "text/plain": [
       "<Figure size 432x288 with 1 Axes>"
      ]
     },
     "metadata": {
      "needs_background": "light"
     },
     "output_type": "display_data"
    }
   ],
   "source": [
    "X_train_wy.groupby(X_train['Age_disc_label'])['y'].mean().plot.bar()"
   ]
  },
  {
   "cell_type": "code",
   "execution_count": 404,
   "metadata": {},
   "outputs": [
    {
     "data": {
      "text/plain": [
       "<AxesSubplot:xlabel='Age_disc_label'>"
      ]
     },
     "execution_count": 404,
     "metadata": {},
     "output_type": "execute_result"
    },
    {
     "data": {
      "image/png": "[encoded data removed]",
      "text/plain": [
       "<Figure size 432x288 with 1 Axes>"
      ]
     },
     "metadata": {
      "needs_background": "light"
     },
     "output_type": "display_data"
    }
   ],
   "source": [
    "X_test_wy.groupby(X_test['Age_disc_label'])['y'].mean().plot.bar()"
   ]
  },
  {
   "cell_type": "code",
   "execution_count": 405,
   "metadata": {},
   "outputs": [
    {
     "data": {
      "text/plain": [
       "Age_disc_label\n",
       "Q10    0.145756\n",
       "Q4     0.158730\n",
       "Q9     0.165756\n",
       "Q5     0.174342\n",
       "Q8     0.179487\n",
       "Q7     0.182777\n",
       "Q6     0.202627\n",
       "Q3     0.205339\n",
       "Q1     0.214165\n",
       "Q2     0.225376\n",
       "Name: y, dtype: float64"
      ]
     },
     "execution_count": 405,
     "metadata": {},
     "output_type": "execute_result"
    }
   ],
   "source": [
    "# let's order the labels according to the mean target value\n",
    "X_train_wy.groupby(X_train['Age_disc_label'])['y'].mean().sort_values()"
   ]
  },
  {
   "cell_type": "code",
   "execution_count": 406,
   "metadata": {},
   "outputs": [
    {
     "data": {
      "text/plain": [
       "Age_disc_label\n",
       "Q10    0.099174\n",
       "Q5     0.124555\n",
       "Q9     0.150000\n",
       "Q6     0.168033\n",
       "Q8     0.172996\n",
       "Q1     0.173267\n",
       "Q7     0.191964\n",
       "Q4     0.196721\n",
       "Q2     0.221277\n",
       "Q3     0.247423\n",
       "Name: y, dtype: float64"
      ]
     },
     "execution_count": 406,
     "metadata": {},
     "output_type": "execute_result"
    }
   ],
   "source": [
    "X_test_wy.groupby(X_test['Age_disc_label'])['y'].mean().sort_values()"
   ]
  },
  {
   "cell_type": "code",
   "execution_count": 407,
   "metadata": {},
   "outputs": [
    {
     "data": {
      "text/plain": [
       "{'Q1': 0.17326732673267325,\n",
       " 'Q2': 0.22127659574468084,\n",
       " 'Q3': 0.24742268041237114,\n",
       " 'Q4': 0.19672131147540983,\n",
       " 'Q5': 0.12455516014234876,\n",
       " 'Q6': 0.1680327868852459,\n",
       " 'Q7': 0.19196428571428573,\n",
       " 'Q8': 0.1729957805907173,\n",
       " 'Q9': 0.15,\n",
       " 'Q10': 0.09917355371900827}"
      ]
     },
     "execution_count": 407,
     "metadata": {},
     "output_type": "execute_result"
    }
   ],
   "source": [
    "# and now let's do the same but capturing the result in a dictionary\n",
    "ordered_labels = X_train_wy.groupby(X_train['Age_disc_label'])['y'].mean().to_dict()\n",
    "ordered_labels\n",
    "ordered_labels_test = X_test_wy.groupby(X_test['Age_disc_label'])['y'].mean().to_dict()\n",
    "ordered_labels_test"
   ]
  },
  {
   "cell_type": "code",
   "execution_count": 408,
   "metadata": {},
   "outputs": [],
   "source": [
    "# now, we replace the labels with the target means\n",
    "X_train['Age_knn_bin_enco'] = X_train['Age_disc_label'].map(ordered_labels)\n",
    "X_test['Age_knn_bin_enco'] = X_test['Age_disc_label'].map(ordered_labels_test)"
   ]
  },
  {
   "cell_type": "code",
   "execution_count": 411,
   "metadata": {},
   "outputs": [
    {
     "data": {
      "text/html": [
       "<div>\n",
       "<style scoped>\n",
       "    .dataframe tbody tr th:only-of-type {\n",
       "        vertical-align: middle;\n",
       "    }\n",
       "\n",
       "    .dataframe tbody tr th {\n",
       "        vertical-align: top;\n",
       "    }\n",
       "\n",
       "    .dataframe thead th {\n",
       "        text-align: right;\n",
       "    }\n",
       "</style>\n",
       "<table border=\"1\" class=\"dataframe\">\n",
       "  <thead>\n",
       "    <tr style=\"text-align: right;\">\n",
       "      <th></th>\n",
       "      <th>Keypls</th>\n",
       "      <th>Rishuy_number</th>\n",
       "      <th>Rechecv_Companny</th>\n",
       "      <th>Manufacture_Year</th>\n",
       "      <th>Age</th>\n",
       "      <th>Gender</th>\n",
       "      <th>City</th>\n",
       "      <th>NumInP</th>\n",
       "      <th>Rechecv_Companny_imputed_M2</th>\n",
       "      <th>Rechecv_Companny_Missing_M3</th>\n",
       "      <th>...</th>\n",
       "      <th>City_orencod_mean</th>\n",
       "      <th>City_by_mean</th>\n",
       "      <th>City_prob</th>\n",
       "      <th>Rechecv_Companny_Missing_M3_en_mean</th>\n",
       "      <th>Rechecv_Companny_Missing_M2_en_mean</th>\n",
       "      <th>Age_knn_log</th>\n",
       "      <th>Age_knn_sqr</th>\n",
       "      <th>Age_knn_boxcox</th>\n",
       "      <th>Age_disc_label</th>\n",
       "      <th>Age_knn_bin_enco</th>\n",
       "    </tr>\n",
       "  </thead>\n",
       "  <tbody>\n",
       "    <tr>\n",
       "      <th>5268</th>\n",
       "      <td>4852</td>\n",
       "      <td>73006352</td>\n",
       "      <td>Fiat</td>\n",
       "      <td>NaN</td>\n",
       "      <td>38.0</td>\n",
       "      <td>Female</td>\n",
       "      <td>Ashdod</td>\n",
       "      <td>2.0</td>\n",
       "      <td>Fiat</td>\n",
       "      <td>Fiat</td>\n",
       "      <td>...</td>\n",
       "      <td>4</td>\n",
       "      <td>0.192580</td>\n",
       "      <td>0.192580</td>\n",
       "      <td>0.260870</td>\n",
       "      <td>0.256270</td>\n",
       "      <td>3.637586</td>\n",
       "      <td>6.164414</td>\n",
       "      <td>16.864885</td>\n",
       "      <td>Q4</td>\n",
       "      <td>0.158730</td>\n",
       "    </tr>\n",
       "    <tr>\n",
       "      <th>1038</th>\n",
       "      <td>3955</td>\n",
       "      <td>73005455</td>\n",
       "      <td>Mazda</td>\n",
       "      <td>2006.0</td>\n",
       "      <td>35.0</td>\n",
       "      <td>Female</td>\n",
       "      <td>Tel Aviv</td>\n",
       "      <td>3.0</td>\n",
       "      <td>Mazda</td>\n",
       "      <td>Mazda</td>\n",
       "      <td>...</td>\n",
       "      <td>1</td>\n",
       "      <td>0.181403</td>\n",
       "      <td>0.181403</td>\n",
       "      <td>0.251929</td>\n",
       "      <td>0.248414</td>\n",
       "      <td>3.555348</td>\n",
       "      <td>5.916080</td>\n",
       "      <td>15.839528</td>\n",
       "      <td>Q4</td>\n",
       "      <td>0.158730</td>\n",
       "    </tr>\n",
       "    <tr>\n",
       "      <th>5124</th>\n",
       "      <td>4726</td>\n",
       "      <td>73006226</td>\n",
       "      <td>Tesla</td>\n",
       "      <td>2004.0</td>\n",
       "      <td>44.0</td>\n",
       "      <td>Male</td>\n",
       "      <td>Jerusalem</td>\n",
       "      <td>3.0</td>\n",
       "      <td>Tesla</td>\n",
       "      <td>Tesla</td>\n",
       "      <td>...</td>\n",
       "      <td>0</td>\n",
       "      <td>0.178230</td>\n",
       "      <td>0.178230</td>\n",
       "      <td>0.062914</td>\n",
       "      <td>0.061688</td>\n",
       "      <td>3.784190</td>\n",
       "      <td>6.633250</td>\n",
       "      <td>18.846129</td>\n",
       "      <td>Q5</td>\n",
       "      <td>0.174342</td>\n",
       "    </tr>\n",
       "  </tbody>\n",
       "</table>\n",
       "<p>3 rows × 24 columns</p>\n",
       "</div>"
      ],
      "text/plain": [
       "      Keypls  Rishuy_number Rechecv_Companny  Manufacture_Year   Age  Gender  \\\n",
       "5268    4852       73006352             Fiat               NaN  38.0  Female   \n",
       "1038    3955       73005455            Mazda            2006.0  35.0  Female   \n",
       "5124    4726       73006226            Tesla            2004.0  44.0    Male   \n",
       "\n",
       "           City  NumInP Rechecv_Companny_imputed_M2  \\\n",
       "5268     Ashdod     2.0                        Fiat   \n",
       "1038   Tel Aviv     3.0                       Mazda   \n",
       "5124  Jerusalem     3.0                       Tesla   \n",
       "\n",
       "     Rechecv_Companny_Missing_M3  ... City_orencod_mean  City_by_mean  \\\n",
       "5268                        Fiat  ...                 4      0.192580   \n",
       "1038                       Mazda  ...                 1      0.181403   \n",
       "5124                       Tesla  ...                 0      0.178230   \n",
       "\n",
       "      City_prob  Rechecv_Companny_Missing_M3_en_mean  \\\n",
       "5268   0.192580                             0.260870   \n",
       "1038   0.181403                             0.251929   \n",
       "5124   0.178230                             0.062914   \n",
       "\n",
       "      Rechecv_Companny_Missing_M2_en_mean  Age_knn_log  Age_knn_sqr  \\\n",
       "5268                             0.256270     3.637586     6.164414   \n",
       "1038                             0.248414     3.555348     5.916080   \n",
       "5124                             0.061688     3.784190     6.633250   \n",
       "\n",
       "      Age_knn_boxcox  Age_disc_label  Age_knn_bin_enco  \n",
       "5268       16.864885              Q4          0.158730  \n",
       "1038       15.839528              Q4          0.158730  \n",
       "5124       18.846129              Q5          0.174342  \n",
       "\n",
       "[3 rows x 24 columns]"
      ]
     },
     "execution_count": 411,
     "metadata": {},
     "output_type": "execute_result"
    }
   ],
   "source": [
    "X_train.sample(3)"
   ]
  },
  {
   "cell_type": "markdown",
   "metadata": {},
   "source": [
    "### Outliers Handling:"
   ]
  },
  {
   "cell_type": "code",
   "execution_count": 188,
   "metadata": {},
   "outputs": [],
   "source": [
    "## Capping-gaussian-approximation"
   ]
  },
  {
   "cell_type": "code",
   "execution_count": 414,
   "metadata": {},
   "outputs": [],
   "source": [
    "# function to create histogram, Q-Q plot and\n",
    "# boxplot. We learned this in section 3 of the course\n",
    "\n",
    "def diagnostic_plots(df, variable):\n",
    "# function takes a dataframe (df) and\n",
    "# the variable of interest as arguments\n",
    "# define figure size\n",
    "    plt.figure(figsize=(16, 4))\n",
    "# histogram\n",
    "    plt.subplot(1, 3, 1)\n",
    "    sns.distplot(df[variable], bins=30)\n",
    "    plt.title('Histogram')\n",
    "# Q-Q plot\n",
    "    plt.subplot(1, 3, 2)\n",
    "    stats.probplot(df[variable], dist=\"norm\", plot=plt)\n",
    "    plt.ylabel('Variable quantiles')\n",
    "# boxplot\n",
    "    plt.subplot(1, 3, 3)\n",
    "    sns.boxplot(y=df[variable])\n",
    "    plt.title('Boxplot')\n",
    "    plt.show()"
   ]
  },
  {
   "cell_type": "code",
   "execution_count": 415,
   "metadata": {},
   "outputs": [
    {
     "data": {
      "image/png": "[encoded data removed]",
      "text/plain": [
       "<Figure size 1152x288 with 3 Axes>"
      ]
     },
     "metadata": {
      "needs_background": "light"
     },
     "output_type": "display_data"
    }
   ],
   "source": [
    "diagnostic_plots(X_train, 'Age')"
   ]
  },
  {
   "cell_type": "code",
   "execution_count": 416,
   "metadata": {},
   "outputs": [
    {
     "data": {
      "image/png": "[encoded data removed]",
      "text/plain": [
       "<Figure size 1152x288 with 3 Axes>"
      ]
     },
     "metadata": {
      "needs_background": "light"
     },
     "output_type": "display_data"
    }
   ],
   "source": [
    "diagnostic_plots(X_train, 'Manufacture_Year')"
   ]
  },
  {
   "cell_type": "code",
   "execution_count": 417,
   "metadata": {},
   "outputs": [
    {
     "data": {
      "text/plain": [
       "44.920615054532455"
      ]
     },
     "execution_count": 417,
     "metadata": {},
     "output_type": "execute_result"
    }
   ],
   "source": [
    "X_train['Age'].mean()"
   ]
  },
  {
   "cell_type": "code",
   "execution_count": 418,
   "metadata": {},
   "outputs": [],
   "source": [
    "def find_normal_boundaries(df, variable, distance):\n",
    "# calculate the boundaries outside which sit the outliers\n",
    "# for a Gaussian distribution\n",
    "    upper_boundary = df[variable].mean() + distance * df[variable].std()\n",
    "    lower_boundary = df[variable].mean() - distance * df[variable].std()\n",
    "    return upper_boundary, lower_boundary"
   ]
  },
  {
   "cell_type": "code",
   "execution_count": 421,
   "metadata": {},
   "outputs": [
    {
     "data": {
      "text/plain": [
       "(97.28627323096933, -7.445043121904412)"
      ]
     },
     "execution_count": 421,
     "metadata": {},
     "output_type": "execute_result"
    }
   ],
   "source": [
    "# find limits for RM\n",
    "RM_upper_limit, RM_lower_limit = find_normal_boundaries(X_train, 'Age', 3)\n",
    "RM_upper_limit, RM_lower_limit"
   ]
  },
  {
   "cell_type": "code",
   "execution_count": 422,
   "metadata": {},
   "outputs": [
    {
     "data": {
      "text/plain": [
       "array([17., 60., 75., ..., 71., 50., 56.])"
      ]
     },
     "execution_count": 422,
     "metadata": {},
     "output_type": "execute_result"
    }
   ],
   "source": [
    "# Now let's replace the outliers by the maximum and minimum limit\n",
    "temp_out = np.where(X_train['Age'] > RM_upper_limit, RM_upper_limit,np.where(X_train['Age'] < RM_lower_limit, RM_lower_limit,X_train['Age']))\n",
    "temp_out"
   ]
  },
  {
   "cell_type": "code",
   "execution_count": 423,
   "metadata": {},
   "outputs": [],
   "source": [
    "### -Capping-IQR-proximity-rule"
   ]
  },
  {
   "cell_type": "code",
   "execution_count": 424,
   "metadata": {},
   "outputs": [],
   "source": [
    "def find_skewed_boundaries(df, variable, distance):\n",
    "# Let's calculate the boundaries outside which sit the outliers\n",
    "# for skewed distributions\n",
    "# distance passed as an argument, gives us the option to\n",
    "# estimate 1.5 times or 3 times the IQR to calculate\n",
    "# the boundaries.\n",
    "    IQR = df[variable].quantile(0.75) - df[variable].quantile(0.25)\n",
    "    lower_boundary = df[variable].quantile(0.25) - (IQR * distance)\n",
    "    upper_boundary = df[variable].quantile(0.75) + (IQR * distance)\n",
    "    return upper_boundary, lower_boundary"
   ]
  },
  {
   "cell_type": "code",
   "execution_count": 425,
   "metadata": {},
   "outputs": [
    {
     "data": {
      "text/plain": [
       "(106.5, -17.5)"
      ]
     },
     "execution_count": 425,
     "metadata": {},
     "output_type": "execute_result"
    }
   ],
   "source": [
    "# find limits for RM\n",
    "RM_upper_limit, RM_lower_limit = find_skewed_boundaries(X_train, 'Age', 1.5)\n",
    "RM_upper_limit, RM_lower_limit"
   ]
  },
  {
   "cell_type": "code",
   "execution_count": 426,
   "metadata": {},
   "outputs": [
    {
     "data": {
      "text/plain": [
       "array([17., 60., 75., ..., 71., 50., 56.])"
      ]
     },
     "execution_count": 426,
     "metadata": {},
     "output_type": "execute_result"
    }
   ],
   "source": [
    "# Now let's replace the outliers by the maximum and minimum limit\n",
    "temp_out_iqr = np.where(X_train['Age'] > RM_upper_limit, RM_upper_limit,np.where(X_train['Age'] < RM_lower_limit, RM_lower_limit,X_train['Age']))\n",
    "temp_out_iqr"
   ]
  },
  {
   "cell_type": "markdown",
   "metadata": {},
   "source": [
    "##  Feature Scaling:  "
   ]
  },
  {
   "cell_type": "code",
   "execution_count": null,
   "metadata": {},
   "outputs": [],
   "source": []
  }
 ],
 "metadata": {
  "kernelspec": {
   "display_name": "Python 3",
   "language": "python",
   "name": "python3"
  },
  "language_info": {
   "codemirror_mode": {
    "name": "ipython",
    "version": 3
   },
   "file_extension": ".py",
   "mimetype": "text/x-python",
   "name": "python",
   "nbconvert_exporter": "python",
   "pygments_lexer": "ipython3",
   "version": "3.8.5"
  }
 },
 "nbformat": 4,
 "nbformat_minor": 4
}
