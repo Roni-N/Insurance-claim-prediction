{
 "cells": [
  {
   "attachments": {},
   "cell_type": "markdown",
   "metadata": {},
   "source": [
    "# Section 1: Business Understanding\n",
    "<br>\n",
    "<div>\n",
    "<img src=\"pic/22.png\" width=\"700\" align=\"center\"/>\n",
    "</div>\n"
   ]
  },
  {
   "attachments": {},
   "cell_type": "markdown",
   "metadata": {},
   "source": [
    "## What Is Automobile Insurance?\n",
    "\n",
    "A vehicle insurance policy is effectively a contract between an individual and an insurance company whereby the individual agrees to pay premiums in exchange for protection against financial losses resulting from an accident or other damage to the vehicle.\n",
    "\n",
    "<br>\n",
    "<div>\n",
    "<img src=\"pic/cim.jpeg\" width=\"500\" align=\"center\"/>\n",
    "</div>\n",
    "\n",
    "\n",
    "<br>\n",
    "\n",
    "## The business model\n",
    "\n",
    "In return for the payment of a premium, the insurance company agrees to pay the policyholder's losses under the person policy. <br>\n",
    "Individual policies are priced differently to allow customers to choose coverage levels that closely suit their needs and budget. <br>\n",
    "Policy terms generally range between six and twelve months. \n",
    "\n",
    "\n",
    "## Insurance premiums\n",
    "There are two primary costs associated with purchasing car insurance: premiums and deductibles.<br>\n",
    "Auto insurance premiums vary depending on age, gender, years of driving experience, accident and moving violation history, and other factors.\n",
    "\n",
    "## Insurance & \"The Law of Large Numbers\" \n",
    "Insurance companies rely on the law of large numbers to help estimate the value and frequency of future claims they will pay to policyholders.<br>\n",
    "\n",
    "If everything runs smoothly, insurance companies operate smoothly, consumers pay fair and accurate premiums, and the financial system as a whole remains stable. However, in practice, the theory of the law of large numbers does not always hold. <br>\n",
    "\n",
    "Following the Law of Large Numbers, the average of a large number of results closely reflects the expected value. This gap narrows as more results are introduced. <br>\n",
    "\n",
    "If there are a large number of policyholders in an insurance company, the actual loss will equal the expected loss.<br>\n",
    "\n",
    "Insurance companies use the features mentioned earlier to determine how likely policyholders are to file future claims. And those decisions directly affect their business performance. <br>\n",
    "\n",
    "\n",
    "**Note** - in the real world. There are additional factors that influence the firm's performance and profits.<br>\n",
    "For simplicity, in our project, we will define the firm's profitability as the expected return for policies.\n",
    "\n"
   ]
  },
  {
   "attachments": {},
   "cell_type": "markdown",
   "metadata": {},
   "source": [
    "## Expected value\n",
    "\n",
    "The expected value (EV) is an anticipated value for an investment at some point in the future. In statistics and probability analysis, the expected value is calculated by multiplying each of the possible outcomes by the likelihood each outcome will occur and then summing all of those values. By calculating expected values, investors can choose the scenario most likely to give the desired outcome. **investopedia** <br>\n",
    "\n",
    "<br>\n",
    "<div>\n",
    "<img src=\"pic/ex1.jpeg\" width=\"300\" align=\"left\"/>\n",
    "</div>\n",
    "\n",
    "<br>\n"
   ]
  },
  {
   "attachments": {},
   "cell_type": "markdown",
   "metadata": {},
   "source": [
    "## Expected Return\n",
    "The expected return is the profit or loss that an investor anticipates on an investment that has known historical rates of return (RoR). It is calculated by multiplying potential outcomes by the chances of them occurring and then totaling these results. **investopedia** <br>\n",
    "\n",
    "<br>\n",
    "<div>\n",
    "<img src=\"pic/ex2.jpeg\" width=\"400\" align=\"left\"/>\n",
    "</div>\n"
   ]
  },
  {
   "attachments": {},
   "cell_type": "markdown",
   "metadata": {},
   "source": [
    "We can illustrate this formula using our business context by using the following example:\n",
    "\n",
    "**policy premium  = 3,000**  \n",
    "**claim costs = -10,000**  <br>\n",
    "\n",
    "**Case 1**: let's calculate the expected return where the probability for a claim is p(x) = 0.5 (50 percent for a claim).\n",
    "\n",
    "In this case, the insurance company is likely to lose about 3,500 in expected returns. <br>\n",
    "\n",
    "\n",
    "**Case 2:** let's calculate the expected return where the probability for a claim is p (x) = 0.95 (95 percent for a claim). <br>\n",
    "\n",
    "In this case, the insurance company is likely to lose about 9,350 in expected returns. <br>\n",
    "\n",
    "**Case 3:** let's calculate the expected return where the probability for a claim is p (x) = 0.05 (only 5 percent for a claim).<br>\n",
    "\n",
    "In this case, the insurance company is likely to lose about 2,350 in expected returns. <br>\n",
    "\n",
    "    \n",
    "<br>\n",
    "<div>\n",
    "<img src=\"pic/tb1.jpeg\" width=\"800\" align=\"center\"/>\n",
    "</div>\n",
    "\n",
    "<br>\n",
    "<br>"
   ]
  },
  {
   "attachments": {},
   "cell_type": "markdown",
   "metadata": {},
   "source": [
    "By these examples, we can see that producing the probability of future policyholders' claims can provide a way to calculate the policies premiums in order to get positive expected returns (i.e. provide personal customize pricing for policyholders by the risk for claim). <br>\n",
    "\n",
    "Examples for the minimum policy premiums for a given probabilities in order to get a positive expected return:  \n",
    "<br>\n",
    "<div>\n",
    "<img src=\"pic/tb2.jpeg\" width=\"400\" align=\"center\"/>\n",
    "</div>\n",
    "\n",
    "<br>\n",
    "\n",
    "<br>\n"
   ]
  },
  {
   "cell_type": "markdown",
   "metadata": {},
   "source": [
    "## Business problem & Projects goals:\n",
    "\n",
    "**The business problem:** <br> We have seen that the probability of future insurance claims have a significant impact on company performance. In other words, incorrect estimates could lead to financial losses and by producing more accurate estimations, the company is able to maximize profits.\n",
    "\n",
    "**Project goals:** <br>\n",
    "For any new policyholder candidate -\n",
    "1. Making a classification model that can predict if a policyholder candidate is likely to make a claim in the future. The output will be binary (yes or no).\n",
    "2. Predicting the likelihood of making an insurance claim. \n",
    "3. Examine and learn which features have the most influence on the explained variable.\n",
    "\n"
   ]
  }
 ],
 "metadata": {
  "kernelspec": {
   "display_name": "Python 3",
   "language": "python",
   "name": "python3"
  },
  "language_info": {
   "codemirror_mode": {
    "name": "ipython",
    "version": 3
   },
   "file_extension": ".py",
   "mimetype": "text/x-python",
   "name": "python",
   "nbconvert_exporter": "python",
   "pygments_lexer": "ipython3",
   "version": "3.8.5"
  }
 },
 "nbformat": 4,
 "nbformat_minor": 4
}
